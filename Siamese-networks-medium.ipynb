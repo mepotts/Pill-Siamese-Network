{
 "cells": [
  {
   "cell_type": "markdown",
   "metadata": {},
   "source": [
    "# One Shot Learning with Siamese Networks\n",
    "\n",
    "This is the jupyter notebook that accompanies"
   ]
  },
  {
   "cell_type": "markdown",
   "metadata": {},
   "source": [
    "## Imports\n",
    "All the imports are defined here"
   ]
  },
  {
   "cell_type": "code",
   "execution_count": 107,
   "metadata": {},
   "outputs": [],
   "source": [
    "%matplotlib inline\n",
    "import torchvision\n",
    "import torchvision.datasets as dset\n",
    "import torchvision.transforms as transforms\n",
    "from torch.utils.data import DataLoader,Dataset\n",
    "import matplotlib.pyplot as plt\n",
    "import torchvision.utils\n",
    "import numpy as np\n",
    "import random\n",
    "from PIL import Image\n",
    "import torch\n",
    "from torch.autograd import Variable\n",
    "import PIL.ImageOps    \n",
    "import torch.nn as nn\n",
    "from torch import optim\n",
    "import torch.nn.functional as F\n",
    "import pandas as pd"
   ]
  },
  {
   "cell_type": "markdown",
   "metadata": {},
   "source": [
    "## Helper functions\n",
    "Set of helper functions"
   ]
  },
  {
   "cell_type": "code",
   "execution_count": 87,
   "metadata": {},
   "outputs": [],
   "source": [
    "def imshow(img,text=None,should_save=False):\n",
    "    npimg = img.numpy()\n",
    "    plt.axis(\"off\")\n",
    "    if text:\n",
    "        plt.text(75, 8, text, style='italic',fontweight='bold',\n",
    "            bbox={'facecolor':'white', 'alpha':0.8, 'pad':10})\n",
    "    plt.imshow(np.transpose(npimg, (1, 2, 0)))\n",
    "    plt.show()    \n",
    "\n",
    "def show_plot(iteration,loss):\n",
    "    plt.plot(iteration,loss)\n",
    "    plt.show()"
   ]
  },
  {
   "cell_type": "markdown",
   "metadata": {},
   "source": [
    "## Configuration Class\n",
    "A simple class to manage configuration"
   ]
  },
  {
   "cell_type": "code",
   "execution_count": 88,
   "metadata": {},
   "outputs": [],
   "source": [
    "class Config():\n",
    "    training_dir = \"./data/pills/training/\"\n",
    "    testing_dir = \"./data/pills/testing/\"\n",
    "    train_batch_size = 8\n",
    "    train_number_epochs = 100"
   ]
  },
  {
   "cell_type": "markdown",
   "metadata": {},
   "source": [
    "## Custom Dataset Class\n",
    "This dataset generates a pair of images. 0 for geniune pair and 1 for imposter pair"
   ]
  },
  {
   "cell_type": "code",
   "execution_count": 89,
   "metadata": {},
   "outputs": [],
   "source": [
    "class SiameseNetworkDataset(Dataset):\n",
    "    \n",
    "    def __init__(self,imageFolderDataset,transform=None,should_invert=True):\n",
    "        self.imageFolderDataset = imageFolderDataset    \n",
    "        self.transform = transform\n",
    "        self.should_invert = should_invert\n",
    "        \n",
    "    def __getitem__(self,index):\n",
    "        img0_tuple = random.choice(self.imageFolderDataset.imgs)\n",
    "        #we need to make sure approx 50% of images are in the same class\n",
    "        should_get_same_class = random.randint(0,1) \n",
    "        if should_get_same_class:\n",
    "            while True:\n",
    "                #keep looping till the same class image is found\n",
    "                img1_tuple = random.choice(self.imageFolderDataset.imgs) \n",
    "                if img0_tuple[1]==img1_tuple[1]:\n",
    "                    break\n",
    "        else:\n",
    "            while True:\n",
    "                #keep looping till a different class image is found\n",
    "                \n",
    "                img1_tuple = random.choice(self.imageFolderDataset.imgs) \n",
    "                if img0_tuple[1] !=img1_tuple[1]:\n",
    "                    break\n",
    "\n",
    "        img0 = Image.open(img0_tuple[0])\n",
    "        img1 = Image.open(img1_tuple[0])\n",
    "        #img0 = img0.convert(\"L\")\n",
    "        #img1 = img1.convert(\"L\")\n",
    "        \n",
    "        if self.should_invert:\n",
    "            img0 = PIL.ImageOps.invert(img0)\n",
    "            img1 = PIL.ImageOps.invert(img1)\n",
    "\n",
    "        if self.transform is not None:\n",
    "            img0 = self.transform(img0)\n",
    "            img1 = self.transform(img1)\n",
    "        \n",
    "        return img0, img1 , torch.from_numpy(np.array([int(img1_tuple[1]!=img0_tuple[1])],dtype=np.float32)), torch.from_numpy(np.array([int(img0_tuple[1])],dtype=np.float32)),torch.from_numpy(np.array([int(img1_tuple[1])],dtype=np.float32))\n",
    "    \n",
    "    def __len__(self):\n",
    "        return len(self.imageFolderDataset.imgs)"
   ]
  },
  {
   "cell_type": "markdown",
   "metadata": {},
   "source": [
    "## Using Image Folder Dataset"
   ]
  },
  {
   "cell_type": "code",
   "execution_count": 90,
   "metadata": {},
   "outputs": [],
   "source": [
    "folder_dataset = dset.ImageFolder(root=Config.training_dir)"
   ]
  },
  {
   "cell_type": "code",
   "execution_count": 91,
   "metadata": {},
   "outputs": [],
   "source": [
    "siamese_dataset = SiameseNetworkDataset(imageFolderDataset=folder_dataset,\n",
    "                                        transform=transforms.Compose([transforms.Resize((100,100)),\n",
    "                                                                      transforms.ToTensor()\n",
    "                                                                      ])\n",
    "                                       ,should_invert=False)"
   ]
  },
  {
   "cell_type": "code",
   "execution_count": 92,
   "metadata": {},
   "outputs": [],
   "source": [
    "img0_tuple = random.choice(folder_dataset.imgs)"
   ]
  },
  {
   "cell_type": "code",
   "execution_count": 93,
   "metadata": {},
   "outputs": [
    {
     "data": {
      "text/plain": [
       "('./data/pills/training/p508/359.jpeg', 17)"
      ]
     },
     "execution_count": 93,
     "metadata": {},
     "output_type": "execute_result"
    }
   ],
   "source": [
    "img0_tuple"
   ]
  },
  {
   "cell_type": "markdown",
   "metadata": {},
   "source": [
    "## Visualising some of the data\n",
    "The top row and the bottom row of any column is one pair. The 0s and 1s correspond to the column of the image.\n",
    "1 indiciates dissimilar, and 0 indicates similar."
   ]
  },
  {
   "cell_type": "code",
   "execution_count": 94,
   "metadata": {},
   "outputs": [
    {
     "data": {
      "image/png": "[encoded data removed]",
      "text/plain": [
       "<Figure size 432x288 with 1 Axes>"
      ]
     },
     "metadata": {
      "needs_background": "light"
     },
     "output_type": "display_data"
    },
    {
     "name": "stdout",
     "output_type": "stream",
     "text": [
      "[[0.]\n",
      " [0.]\n",
      " [1.]\n",
      " [1.]\n",
      " [1.]\n",
      " [1.]\n",
      " [0.]\n",
      " [1.]]\n"
     ]
    }
   ],
   "source": [
    "vis_dataloader = DataLoader(siamese_dataset,\n",
    "                        shuffle=True,\n",
    "                        num_workers=8,\n",
    "                        batch_size=8)\n",
    "dataiter = iter(vis_dataloader)\n",
    "\n",
    "\n",
    "example_batch = next(dataiter)\n",
    "concatenated = torch.cat((example_batch[0],example_batch[1]),0)\n",
    "imshow(torchvision.utils.make_grid(concatenated))\n",
    "print(example_batch[2].numpy())"
   ]
  },
  {
   "cell_type": "markdown",
   "metadata": {
    "collapsed": true
   },
   "source": [
    "## Neural Net Definition\n",
    "We will use a standard convolutional neural network"
   ]
  },
  {
   "cell_type": "code",
   "execution_count": 95,
   "metadata": {},
   "outputs": [],
   "source": [
    "class SiameseNetwork(nn.Module):\n",
    "    def __init__(self):\n",
    "        super(SiameseNetwork, self).__init__()\n",
    "        self.cnn1 = nn.Sequential(\n",
    "            nn.ReflectionPad2d(1),\n",
    "            nn.Conv2d(3, 12, kernel_size=3),\n",
    "            nn.ReLU(inplace=True),\n",
    "            nn.BatchNorm2d(12),\n",
    "            \n",
    "            nn.ReflectionPad2d(1),\n",
    "            nn.Conv2d(12, 12, kernel_size=3),\n",
    "            nn.ReLU(inplace=True),\n",
    "            nn.BatchNorm2d(12),\n",
    "\n",
    "\n",
    "            nn.ReflectionPad2d(1),\n",
    "            nn.Conv2d(12, 24, kernel_size=3),\n",
    "            nn.ReLU(inplace=True),\n",
    "            nn.BatchNorm2d(24),\n",
    "\n",
    "\n",
    "        )\n",
    "\n",
    "        self.fc1 = nn.Sequential(\n",
    "            nn.Linear(24*100*100, 20),\n",
    "            nn.ReLU(inplace=True),\n",
    "\n",
    "            nn.Linear(20, 20),\n",
    "            nn.ReLU(inplace=True),\n",
    "\n",
    "            nn.Linear(20, 5))\n",
    "\n",
    "    def forward_once(self, x):\n",
    "        output = self.cnn1(x)\n",
    "        output = output.view(output.size()[0], -1)\n",
    "        output = self.fc1(output)\n",
    "        return output\n",
    "\n",
    "    def forward(self, input1, input2):\n",
    "        output1 = self.forward_once(input1)\n",
    "        output2 = self.forward_once(input2)\n",
    "        return output1, output2"
   ]
  },
  {
   "cell_type": "markdown",
   "metadata": {},
   "source": [
    "## Contrastive Loss"
   ]
  },
  {
   "cell_type": "code",
   "execution_count": 96,
   "metadata": {},
   "outputs": [],
   "source": [
    "class ContrastiveLoss(torch.nn.Module):\n",
    "    \"\"\"\n",
    "    Contrastive loss function.\n",
    "    Based on: http://yann.lecun.com/exdb/publis/pdf/hadsell-chopra-lecun-06.pdf\n",
    "    \"\"\"\n",
    "\n",
    "    def __init__(self, margin=0.5):\n",
    "        super(ContrastiveLoss, self).__init__()\n",
    "        self.margin = margin\n",
    "\n",
    "    def forward(self, output1, output2, label):\n",
    "        euclidean_distance = F.pairwise_distance(output1, output2)\n",
    "        loss_contrastive = torch.mean((1-label) * torch.pow(euclidean_distance, 2) +\n",
    "                                      (label) * torch.pow(torch.clamp(self.margin - euclidean_distance, min=0.0), 2))\n",
    "\n",
    "\n",
    "        return loss_contrastive"
   ]
  },
  {
   "cell_type": "markdown",
   "metadata": {},
   "source": [
    "## Training Time!"
   ]
  },
  {
   "cell_type": "code",
   "execution_count": 97,
   "metadata": {},
   "outputs": [],
   "source": [
    "train_dataloader = DataLoader(siamese_dataset,\n",
    "                        shuffle=True,\n",
    "                        num_workers=8,\n",
    "                        batch_size=Config.train_batch_size)"
   ]
  },
  {
   "cell_type": "code",
   "execution_count": 98,
   "metadata": {},
   "outputs": [],
   "source": [
    "net = SiameseNetwork()\n",
    "criterion = ContrastiveLoss()\n",
    "optimizer = optim.Adam(net.parameters(),lr = 0.0005 )"
   ]
  },
  {
   "cell_type": "code",
   "execution_count": 99,
   "metadata": {},
   "outputs": [],
   "source": [
    "counter = []\n",
    "loss_history = [] \n",
    "iteration_number= 0"
   ]
  },
  {
   "cell_type": "code",
   "execution_count": 83,
   "metadata": {
    "scrolled": true
   },
   "outputs": [
    {
     "name": "stdout",
     "output_type": "stream",
     "text": [
      "Epoch number 0\n",
      " Current loss 0.05317341536283493\n",
      "\n",
      "Epoch number 0\n",
      " Current loss 4.013765335083008\n",
      "\n",
      "Epoch number 1\n",
      " Current loss 1.7938743829727173\n",
      "\n",
      "Epoch number 1\n",
      " Current loss 4.317684173583984\n",
      "\n",
      "Epoch number 2\n",
      " Current loss 2.324709892272949\n",
      "\n",
      "Epoch number 2\n",
      " Current loss 0.288144052028656\n",
      "\n",
      "Epoch number 3\n",
      " Current loss 0.4410654902458191\n",
      "\n",
      "Epoch number 3\n",
      " Current loss 0.7140541672706604\n",
      "\n",
      "Epoch number 4\n",
      " Current loss 0.8464481830596924\n",
      "\n",
      "Epoch number 4\n",
      " Current loss 0.450569748878479\n",
      "\n",
      "Epoch number 5\n",
      " Current loss 0.22969312965869904\n",
      "\n",
      "Epoch number 5\n",
      " Current loss 4.908888339996338\n",
      "\n",
      "Epoch number 6\n",
      " Current loss 0.2999287545681\n",
      "\n",
      "Epoch number 6\n",
      " Current loss 0.19303512573242188\n",
      "\n",
      "Epoch number 7\n",
      " Current loss 0.29665660858154297\n",
      "\n",
      "Epoch number 7\n",
      " Current loss 0.31559330224990845\n",
      "\n",
      "Epoch number 8\n",
      " Current loss 0.3066401481628418\n",
      "\n",
      "Epoch number 8\n",
      " Current loss 0.151908740401268\n",
      "\n",
      "Epoch number 9\n",
      " Current loss 0.18301406502723694\n",
      "\n",
      "Epoch number 9\n",
      " Current loss 0.19314154982566833\n",
      "\n",
      "Epoch number 10\n",
      " Current loss 0.2604760527610779\n",
      "\n",
      "Epoch number 10\n",
      " Current loss 0.1718173325061798\n",
      "\n",
      "Epoch number 11\n",
      " Current loss 0.07661250233650208\n",
      "\n",
      "Epoch number 11\n",
      " Current loss 0.13331203162670135\n",
      "\n",
      "Epoch number 12\n",
      " Current loss 0.11480514705181122\n",
      "\n",
      "Epoch number 12\n",
      " Current loss 0.10854445397853851\n",
      "\n",
      "Epoch number 13\n",
      " Current loss 0.11615610867738724\n",
      "\n",
      "Epoch number 13\n",
      " Current loss 0.0624554306268692\n",
      "\n",
      "Epoch number 14\n",
      " Current loss 0.06980067491531372\n",
      "\n",
      "Epoch number 14\n",
      " Current loss 0.10066286474466324\n",
      "\n",
      "Epoch number 15\n",
      " Current loss 0.20140928030014038\n",
      "\n",
      "Epoch number 15\n",
      " Current loss 0.07596733421087265\n",
      "\n",
      "Epoch number 16\n",
      " Current loss 0.10997873544692993\n",
      "\n",
      "Epoch number 16\n",
      " Current loss 0.09198486804962158\n",
      "\n",
      "Epoch number 17\n",
      " Current loss 0.08646972477436066\n",
      "\n",
      "Epoch number 17\n",
      " Current loss 0.14556683599948883\n",
      "\n",
      "Epoch number 18\n",
      " Current loss 0.09831540286540985\n",
      "\n",
      "Epoch number 18\n",
      " Current loss 0.12175043672323227\n",
      "\n",
      "Epoch number 19\n",
      " Current loss 0.09490127116441727\n",
      "\n",
      "Epoch number 19\n",
      " Current loss 0.10652481019496918\n",
      "\n",
      "Epoch number 20\n",
      " Current loss 0.08418674021959305\n",
      "\n",
      "Epoch number 20\n",
      " Current loss 0.12835948169231415\n",
      "\n",
      "Epoch number 21\n",
      " Current loss 0.04286818951368332\n",
      "\n",
      "Epoch number 21\n",
      " Current loss 0.09395139664411545\n",
      "\n",
      "Epoch number 22\n",
      " Current loss 0.06522275507450104\n",
      "\n",
      "Epoch number 22\n",
      " Current loss 0.07247631251811981\n",
      "\n",
      "Epoch number 23\n",
      " Current loss 0.1047351062297821\n",
      "\n",
      "Epoch number 23\n",
      " Current loss 0.07992856204509735\n",
      "\n",
      "Epoch number 24\n",
      " Current loss 0.11686818301677704\n",
      "\n",
      "Epoch number 24\n",
      " Current loss 0.0797109454870224\n",
      "\n",
      "Epoch number 25\n",
      " Current loss 0.08576205372810364\n",
      "\n",
      "Epoch number 25\n",
      " Current loss 0.08648903667926788\n",
      "\n",
      "Epoch number 26\n",
      " Current loss 0.07879437506198883\n",
      "\n",
      "Epoch number 26\n",
      " Current loss 0.09422945231199265\n",
      "\n",
      "Epoch number 27\n",
      " Current loss 0.0689992681145668\n",
      "\n",
      "Epoch number 27\n",
      " Current loss 0.07523148506879807\n",
      "\n",
      "Epoch number 28\n",
      " Current loss 0.11101989448070526\n",
      "\n",
      "Epoch number 28\n",
      " Current loss 0.07394266873598099\n",
      "\n",
      "Epoch number 29\n",
      " Current loss 0.07076600939035416\n",
      "\n",
      "Epoch number 29\n",
      " Current loss 0.07684952020645142\n",
      "\n",
      "Epoch number 30\n",
      " Current loss 0.07901570200920105\n",
      "\n",
      "Epoch number 30\n",
      " Current loss 0.04950598627328873\n",
      "\n",
      "Epoch number 31\n",
      " Current loss 0.06688252836465836\n",
      "\n",
      "Epoch number 31\n",
      " Current loss 0.12334873527288437\n",
      "\n",
      "Epoch number 32\n",
      " Current loss 0.046136435121297836\n",
      "\n",
      "Epoch number 32\n",
      " Current loss 0.0849466621875763\n",
      "\n",
      "Epoch number 33\n",
      " Current loss 0.07208915054798126\n",
      "\n",
      "Epoch number 33\n",
      " Current loss 0.06723517924547195\n",
      "\n",
      "Epoch number 34\n",
      " Current loss 0.0997476652264595\n",
      "\n",
      "Epoch number 34\n",
      " Current loss 0.07167711108922958\n",
      "\n",
      "Epoch number 35\n",
      " Current loss 0.07642468810081482\n",
      "\n",
      "Epoch number 35\n",
      " Current loss 0.06024385988712311\n",
      "\n",
      "Epoch number 36\n",
      " Current loss 0.072624072432518\n",
      "\n",
      "Epoch number 36\n",
      " Current loss 0.06817606836557388\n",
      "\n",
      "Epoch number 37\n",
      " Current loss 0.06422088295221329\n",
      "\n",
      "Epoch number 37\n",
      " Current loss 0.0664796456694603\n",
      "\n",
      "Epoch number 38\n",
      " Current loss 0.07425303012132645\n",
      "\n",
      "Epoch number 38\n",
      " Current loss 0.10917001962661743\n",
      "\n",
      "Epoch number 39\n",
      " Current loss 0.07079891115427017\n",
      "\n",
      "Epoch number 39\n",
      " Current loss 0.05954224616289139\n",
      "\n",
      "Epoch number 40\n",
      " Current loss 0.08164747059345245\n",
      "\n",
      "Epoch number 40\n",
      " Current loss 0.0625549703836441\n",
      "\n",
      "Epoch number 41\n",
      " Current loss 0.06666257977485657\n",
      "\n",
      "Epoch number 41\n",
      " Current loss 0.07979907095432281\n",
      "\n",
      "Epoch number 42\n",
      " Current loss 0.06912191957235336\n",
      "\n",
      "Epoch number 42\n",
      " Current loss 0.08370251208543777\n",
      "\n",
      "Epoch number 43\n",
      " Current loss 0.09502223134040833\n",
      "\n",
      "Epoch number 43\n",
      " Current loss 0.08062697947025299\n",
      "\n",
      "Epoch number 44\n",
      " Current loss 0.06896547973155975\n",
      "\n",
      "Epoch number 44\n",
      " Current loss 0.07066266983747482\n",
      "\n",
      "Epoch number 45\n",
      " Current loss 0.07322465628385544\n",
      "\n",
      "Epoch number 45\n",
      " Current loss 0.07067134976387024\n",
      "\n",
      "Epoch number 46\n",
      " Current loss 0.06785973161458969\n",
      "\n",
      "Epoch number 46\n",
      " Current loss 0.08970183879137039\n",
      "\n",
      "Epoch number 47\n",
      " Current loss 0.07714830338954926\n",
      "\n",
      "Epoch number 47\n",
      " Current loss 0.11915629357099533\n",
      "\n",
      "Epoch number 48\n",
      " Current loss 0.09041984379291534\n",
      "\n",
      "Epoch number 48\n",
      " Current loss 0.113247811794281\n",
      "\n",
      "Epoch number 49\n",
      " Current loss 0.07962126284837723\n",
      "\n",
      "Epoch number 49\n",
      " Current loss 0.09105802327394485\n",
      "\n",
      "Epoch number 50\n",
      " Current loss 0.06973627209663391\n",
      "\n",
      "Epoch number 50\n",
      " Current loss 0.07273124158382416\n",
      "\n",
      "Epoch number 51\n",
      " Current loss 0.13682997226715088\n",
      "\n",
      "Epoch number 51\n",
      " Current loss 0.06436797231435776\n",
      "\n",
      "Epoch number 52\n",
      " Current loss 0.07206283509731293\n",
      "\n",
      "Epoch number 52\n",
      " Current loss 0.11019600182771683\n",
      "\n",
      "Epoch number 53\n",
      " Current loss 0.06673147529363632\n",
      "\n",
      "Epoch number 53\n",
      " Current loss 0.0665869191288948\n",
      "\n",
      "Epoch number 54\n",
      " Current loss 0.09325125068426132\n",
      "\n",
      "Epoch number 54\n",
      " Current loss 0.06601829826831818\n",
      "\n",
      "Epoch number 55\n",
      " Current loss 0.0637284517288208\n",
      "\n",
      "Epoch number 55\n",
      " Current loss 0.059342458844184875\n",
      "\n",
      "Epoch number 56\n",
      " Current loss 0.07357688248157501\n",
      "\n",
      "Epoch number 56\n",
      " Current loss 0.06746511906385422\n",
      "\n",
      "Epoch number 57\n",
      " Current loss 0.06996943056583405\n",
      "\n",
      "Epoch number 57\n",
      " Current loss 0.06470037996768951\n",
      "\n",
      "Epoch number 58\n",
      " Current loss 0.08796773850917816\n",
      "\n",
      "Epoch number 58\n",
      " Current loss 0.11467593908309937\n",
      "\n",
      "Epoch number 59\n",
      " Current loss 0.10520181804895401\n",
      "\n",
      "Epoch number 59\n",
      " Current loss 0.07873008400201797\n",
      "\n",
      "Epoch number 60\n",
      " Current loss 0.11431783437728882\n",
      "\n",
      "Epoch number 60\n",
      " Current loss 0.08280128985643387\n",
      "\n",
      "Epoch number 61\n",
      " Current loss 0.07858312129974365\n",
      "\n",
      "Epoch number 61\n",
      " Current loss 0.09936323016881943\n",
      "\n",
      "Epoch number 62\n",
      " Current loss 0.08672868460416794\n",
      "\n",
      "Epoch number 62\n",
      " Current loss 0.07348217070102692\n",
      "\n",
      "Epoch number 63\n",
      " Current loss 0.07433699071407318\n",
      "\n",
      "Epoch number 63\n",
      " Current loss 0.08257145434617996\n",
      "\n",
      "Epoch number 64\n",
      " Current loss 0.07126166671514511\n",
      "\n",
      "Epoch number 64\n",
      " Current loss 0.08753310889005661\n",
      "\n",
      "Epoch number 65\n",
      " Current loss 0.07054506242275238\n",
      "\n",
      "Epoch number 65\n",
      " Current loss 0.07126275449991226\n",
      "\n",
      "Epoch number 66\n",
      " Current loss 0.09269900619983673\n",
      "\n",
      "Epoch number 66\n",
      " Current loss 0.07499698549509048\n",
      "\n",
      "Epoch number 67\n",
      " Current loss 0.07381059229373932\n",
      "\n",
      "Epoch number 67\n",
      " Current loss 0.07846416532993317\n",
      "\n",
      "Epoch number 68\n",
      " Current loss 0.08295951038599014\n",
      "\n",
      "Epoch number 68\n",
      " Current loss 0.07637614756822586\n",
      "\n",
      "Epoch number 69\n",
      " Current loss 0.03936384245753288\n",
      "\n",
      "Epoch number 69\n",
      " Current loss 0.06932799518108368\n",
      "\n",
      "Epoch number 70\n",
      " Current loss 0.06959745287895203\n",
      "\n",
      "Epoch number 70\n",
      " Current loss 0.06189635768532753\n",
      "\n",
      "Epoch number 71\n",
      " Current loss 0.06917259097099304\n",
      "\n",
      "Epoch number 71\n",
      " Current loss 0.06981618702411652\n",
      "\n",
      "Epoch number 72\n",
      " Current loss 0.06715677678585052\n",
      "\n",
      "Epoch number 72\n",
      " Current loss 0.052516259253025055\n",
      "\n",
      "Epoch number 73\n",
      " Current loss 0.06382906436920166\n",
      "\n",
      "Epoch number 73\n",
      " Current loss 0.08844020217657089\n",
      "\n",
      "Epoch number 74\n",
      " Current loss 0.05820314958691597\n",
      "\n",
      "Epoch number 74\n",
      " Current loss 0.06836544722318649\n",
      "\n",
      "Epoch number 75\n",
      " Current loss 0.08184760808944702\n",
      "\n",
      "Epoch number 75\n",
      " Current loss 0.07284203916788101\n",
      "\n",
      "Epoch number 76\n",
      " Current loss 0.09119919687509537\n",
      "\n",
      "Epoch number 76\n",
      " Current loss 0.13731388747692108\n",
      "\n",
      "Epoch number 77\n",
      " Current loss 0.08029679954051971\n",
      "\n",
      "Epoch number 77\n",
      " Current loss 0.06683681905269623\n",
      "\n",
      "Epoch number 78\n",
      " Current loss 0.06949958950281143\n",
      "\n",
      "Epoch number 78\n",
      " Current loss 0.0738682895898819\n",
      "\n",
      "Epoch number 79\n",
      " Current loss 0.056214168667793274\n",
      "\n",
      "Epoch number 79\n",
      " Current loss 0.07821547240018845\n",
      "\n",
      "Epoch number 80\n",
      " Current loss 0.059061210602521896\n",
      "\n",
      "Epoch number 80\n",
      " Current loss 0.07314883172512054\n",
      "\n"
     ]
    },
    {
     "name": "stdout",
     "output_type": "stream",
     "text": [
      "Epoch number 81\n",
      " Current loss 0.07343370467424393\n",
      "\n",
      "Epoch number 81\n",
      " Current loss 0.07091229408979416\n",
      "\n",
      "Epoch number 82\n",
      " Current loss 0.07362597435712814\n",
      "\n",
      "Epoch number 82\n",
      " Current loss 0.0802830308675766\n",
      "\n",
      "Epoch number 83\n",
      " Current loss 0.07411474734544754\n",
      "\n",
      "Epoch number 83\n",
      " Current loss 0.07097378373146057\n",
      "\n",
      "Epoch number 84\n",
      " Current loss 0.06668678671121597\n",
      "\n",
      "Epoch number 84\n",
      " Current loss 0.07329712808132172\n",
      "\n",
      "Epoch number 85\n",
      " Current loss 0.07481148093938828\n",
      "\n",
      "Epoch number 85\n",
      " Current loss 0.08481249958276749\n",
      "\n",
      "Epoch number 86\n",
      " Current loss 0.061897046864032745\n",
      "\n",
      "Epoch number 86\n",
      " Current loss 0.07322852313518524\n",
      "\n",
      "Epoch number 87\n",
      " Current loss 0.06151384487748146\n",
      "\n",
      "Epoch number 87\n",
      " Current loss 0.07738909125328064\n",
      "\n",
      "Epoch number 88\n",
      " Current loss 0.08125413954257965\n",
      "\n",
      "Epoch number 88\n",
      " Current loss 0.08721181750297546\n",
      "\n",
      "Epoch number 89\n",
      " Current loss 0.09149127453565598\n",
      "\n",
      "Epoch number 89\n",
      " Current loss 0.07503771036863327\n",
      "\n",
      "Epoch number 90\n",
      " Current loss 0.07748940587043762\n",
      "\n",
      "Epoch number 90\n",
      " Current loss 0.0752321183681488\n",
      "\n",
      "Epoch number 91\n",
      " Current loss 0.07065010815858841\n",
      "\n",
      "Epoch number 91\n",
      " Current loss 0.07343646138906479\n",
      "\n",
      "Epoch number 92\n",
      " Current loss 0.10607676208019257\n",
      "\n",
      "Epoch number 92\n",
      " Current loss 0.06659666448831558\n",
      "\n",
      "Epoch number 93\n",
      " Current loss 0.0692688375711441\n",
      "\n",
      "Epoch number 93\n",
      " Current loss 0.06355901807546616\n",
      "\n",
      "Epoch number 94\n",
      " Current loss 0.1084885224699974\n",
      "\n",
      "Epoch number 94\n",
      " Current loss 0.07215675711631775\n",
      "\n",
      "Epoch number 95\n",
      " Current loss 0.07145891338586807\n",
      "\n",
      "Epoch number 95\n",
      " Current loss 0.07136336714029312\n",
      "\n",
      "Epoch number 96\n",
      " Current loss 0.055336326360702515\n",
      "\n",
      "Epoch number 96\n",
      " Current loss 0.0787331834435463\n",
      "\n",
      "Epoch number 97\n",
      " Current loss 0.0721212700009346\n",
      "\n",
      "Epoch number 97\n",
      " Current loss 0.07622657716274261\n",
      "\n",
      "Epoch number 98\n",
      " Current loss 0.07408969104290009\n",
      "\n",
      "Epoch number 98\n",
      " Current loss 0.07549799978733063\n",
      "\n",
      "Epoch number 99\n",
      " Current loss 0.07149088382720947\n",
      "\n",
      "Epoch number 99\n",
      " Current loss 0.06779169291257858\n",
      "\n"
     ]
    },
    {
     "data": {
      "image/png": "[encoded data removed]",
      "text/plain": [
       "<Figure size 432x288 with 1 Axes>"
      ]
     },
     "metadata": {
      "needs_background": "light"
     },
     "output_type": "display_data"
    }
   ],
   "source": [
    "for epoch in range(0,Config.train_number_epochs):\n",
    "    for i, data in enumerate(train_dataloader,0):\n",
    "        img0, img1 , label, _, _ = data\n",
    "        img0, img1 , label = img0, img1 , label\n",
    "        optimizer.zero_grad()\n",
    "        output1,output2 = net(img0,img1)\n",
    "        loss_contrastive = criterion(output1,output2,label)\n",
    "        loss_contrastive.backward()\n",
    "        optimizer.step()\n",
    "        if i %10 == 0 :\n",
    "            print(\"Epoch number {}\\n Current loss {}\\n\".format(epoch,loss_contrastive.item()))\n",
    "            iteration_number +=10\n",
    "            counter.append(iteration_number)\n",
    "            loss_history.append(loss_contrastive.item())\n",
    "show_plot(counter,loss_history)"
   ]
  },
  {
   "cell_type": "markdown",
   "metadata": {},
   "source": [
    "## Some simple testing\n",
    "The last 3 subjects were held out from the training, and will be used to test. The Distance between each image pair denotes the degree of similarity the model found between the two images. Less means it found more similar, while higher values indicate it found them to be dissimilar."
   ]
  },
  {
   "cell_type": "code",
   "execution_count": 139,
   "metadata": {
    "run_control": {
     "marked": true
    },
    "scrolled": false
   },
   "outputs": [
    {
     "name": "stdout",
     "output_type": "stream",
     "text": [
      "tensor([[4.]]) tensor([[1.]])\n"
     ]
    },
    {
     "data": {
      "image/png": "[encoded data removed]",
      "text/plain": [
       "<Figure size 432x288 with 1 Axes>"
      ]
     },
     "metadata": {
      "needs_background": "light"
     },
     "output_type": "display_data"
    }
   ],
   "source": [
    "folder_dataset_test = dset.ImageFolder(root=Config.testing_dir)\n",
    "siamese_dataset = SiameseNetworkDataset(imageFolderDataset=folder_dataset_test,\n",
    "                                        transform=transforms.Compose([transforms.Resize((100,100)),\n",
    "                                                                      transforms.ToTensor()\n",
    "                                                                      ])\n",
    "                                       ,should_invert=False)\n",
    "\n",
    "test_dataloader = DataLoader(siamese_dataset,num_workers=6,batch_size=1,shuffle=False)\n",
    "dataiter = iter(test_dataloader)\n",
    "x0,_,_,class0, _ = next(dataiter)\n",
    "\n",
    "for i in range(1):\n",
    "    _,x1,_, _, class1 = next(dataiter)\n",
    "    concatenated = torch.cat((x0,x1),0)\n",
    "    print(class0, class1)\n",
    "    \n",
    "    output1,output2 = net(Variable(x0),Variable(x1))\n",
    "    euclidean_distance = F.pairwise_distance(output1, output2)\n",
    "    imshow(torchvision.utils.make_grid(concatenated),'Dissimilarity: {:.2f}'.format(euclidean_distance.item()))\n",
    "\n"
   ]
  },
  {
   "cell_type": "code",
   "execution_count": 176,
   "metadata": {},
   "outputs": [],
   "source": [
    "folder_dataset_test = dset.ImageFolder(root=Config.testing_dir)\n",
    "siamese_dataset = SiameseNetworkDataset(imageFolderDataset=folder_dataset_test,\n",
    "                                        transform=transforms.Compose([transforms.Resize((100,100)),\n",
    "                                                                      transforms.ToTensor()\n",
    "                                                                      ])\n",
    "                                       ,should_invert=False)\n",
    "\n",
    "test_dataloader = DataLoader(siamese_dataset,num_workers=6,batch_size=1,shuffle=False)\n",
    "\n",
    "cols = ['class0','class1', 'output', 'dissimilarity']\n",
    "lst = []\n",
    "\n",
    "for i_batch, sample_batched in enumerate(test_dataloader):\n",
    "    x0 = sample_batched[0]\n",
    "    class0 = sample_batched[3]\n",
    "    for i_batch, sample_batched in enumerate(test_dataloader):\n",
    "        x1 = sample_batched[1]\n",
    "        class1 = sample_batched[4]\n",
    "        concatenated = torch.cat((x0,x1),0)\n",
    "        output1,output2 = net(Variable(x0),Variable(x1))\n",
    "        euclidean_distance = F.pairwise_distance(output1, output2)\n",
    "        if class0.item() == class1.item():\n",
    "            image_tup = 0\n",
    "        else:\n",
    "            image_tup = 1\n",
    "        lst.append([class0.item(), class1.item(), image_tup, euclidean_distance.item()])\n",
    "        #print(class0.item(), class1.item(), image_tup, euclidean_distance.item())\n",
    "\n",
    "        \n",
    "df = pd.DataFrame(lst, columns=cols)\n",
    "train_set = df"
   ]
  },
  {
   "cell_type": "code",
   "execution_count": 177,
   "metadata": {},
   "outputs": [
    {
     "data": {
      "text/html": [
       "<div>\n",
       "<style scoped>\n",
       "    .dataframe tbody tr th:only-of-type {\n",
       "        vertical-align: middle;\n",
       "    }\n",
       "\n",
       "    .dataframe tbody tr th {\n",
       "        vertical-align: top;\n",
       "    }\n",
       "\n",
       "    .dataframe thead th {\n",
       "        text-align: right;\n",
       "    }\n",
       "</style>\n",
       "<table border=\"1\" class=\"dataframe\">\n",
       "  <thead>\n",
       "    <tr style=\"text-align: right;\">\n",
       "      <th></th>\n",
       "      <th>class0</th>\n",
       "      <th>class1</th>\n",
       "      <th>output</th>\n",
       "      <th>dissimilarity</th>\n",
       "    </tr>\n",
       "  </thead>\n",
       "  <tbody>\n",
       "    <tr>\n",
       "      <th>0</th>\n",
       "      <td>1.0</td>\n",
       "      <td>4.0</td>\n",
       "      <td>1</td>\n",
       "      <td>0.119562</td>\n",
       "    </tr>\n",
       "    <tr>\n",
       "      <th>1</th>\n",
       "      <td>1.0</td>\n",
       "      <td>3.0</td>\n",
       "      <td>1</td>\n",
       "      <td>0.081319</td>\n",
       "    </tr>\n",
       "    <tr>\n",
       "      <th>2</th>\n",
       "      <td>1.0</td>\n",
       "      <td>4.0</td>\n",
       "      <td>1</td>\n",
       "      <td>0.081064</td>\n",
       "    </tr>\n",
       "    <tr>\n",
       "      <th>3</th>\n",
       "      <td>1.0</td>\n",
       "      <td>1.0</td>\n",
       "      <td>0</td>\n",
       "      <td>0.054771</td>\n",
       "    </tr>\n",
       "    <tr>\n",
       "      <th>4</th>\n",
       "      <td>1.0</td>\n",
       "      <td>3.0</td>\n",
       "      <td>1</td>\n",
       "      <td>0.167007</td>\n",
       "    </tr>\n",
       "  </tbody>\n",
       "</table>\n",
       "</div>"
      ],
      "text/plain": [
       "   class0  class1  output  dissimilarity\n",
       "0     1.0     4.0       1       0.119562\n",
       "1     1.0     3.0       1       0.081319\n",
       "2     1.0     4.0       1       0.081064\n",
       "3     1.0     1.0       0       0.054771\n",
       "4     1.0     3.0       1       0.167007"
      ]
     },
     "execution_count": 177,
     "metadata": {},
     "output_type": "execute_result"
    }
   ],
   "source": [
    "df.head(n=5)"
   ]
  },
  {
   "cell_type": "code",
   "execution_count": 178,
   "metadata": {},
   "outputs": [
    {
     "data": {
      "text/plain": [
       "1    488\n",
       "0    137\n",
       "Name: output, dtype: int64"
      ]
     },
     "execution_count": 178,
     "metadata": {},
     "output_type": "execute_result"
    }
   ],
   "source": [
    "import numpy as np\n",
    "import pandas as pd\n",
    "import matplotlib.pyplot as plt\n",
    "import seaborn as sns\n",
    "%matplotlib inline\n",
    "df['output'].value_counts()"
   ]
  },
  {
   "cell_type": "code",
   "execution_count": 179,
   "metadata": {
    "scrolled": false
   },
   "outputs": [
    {
     "data": {
      "text/plain": [
       "<matplotlib.axes._subplots.AxesSubplot at 0x12c8de470>"
      ]
     },
     "execution_count": 179,
     "metadata": {},
     "output_type": "execute_result"
    },
    {
     "data": {
      "image/png": "[encoded data removed]",
      "text/plain": [
       "<Figure size 864x504 with 1 Axes>"
      ]
     },
     "metadata": {
      "needs_background": "light"
     },
     "output_type": "display_data"
    }
   ],
   "source": [
    "plt.figure(figsize=(12, 7))\n",
    "sns.boxplot(x='output',y='dissimilarity',data=df,palette='winter')"
   ]
  },
  {
   "cell_type": "code",
   "execution_count": 168,
   "metadata": {},
   "outputs": [],
   "source": [
    "#rand = np.random.randint(2, size=len(df))\n",
    "#df['random_guess'] = rand.tolist()\n",
    "#df"
   ]
  },
  {
   "cell_type": "code",
   "execution_count": 180,
   "metadata": {},
   "outputs": [
    {
     "name": "stderr",
     "output_type": "stream",
     "text": [
      "/Users/matthewpotts/anaconda3/lib/python3.7/site-packages/ipykernel_launcher.py:7: SettingWithCopyWarning: \n",
      "A value is trying to be set on a copy of a slice from a DataFrame\n",
      "\n",
      "See the caveats in the documentation: http://pandas.pydata.org/pandas-docs/stable/indexing.html#indexing-view-versus-copy\n",
      "  import sys\n",
      "/Users/matthewpotts/anaconda3/lib/python3.7/site-packages/ipykernel_launcher.py:10: SettingWithCopyWarning: \n",
      "A value is trying to be set on a copy of a slice from a DataFrame\n",
      "\n",
      "See the caveats in the documentation: http://pandas.pydata.org/pandas-docs/stable/indexing.html#indexing-view-versus-copy\n",
      "  # Remove the CWD from sys.path while we load stuff.\n",
      "/Users/matthewpotts/anaconda3/lib/python3.7/site-packages/ipykernel_launcher.py:15: SettingWithCopyWarning: \n",
      "A value is trying to be set on a copy of a slice from a DataFrame\n",
      "\n",
      "See the caveats in the documentation: http://pandas.pydata.org/pandas-docs/stable/indexing.html#indexing-view-versus-copy\n",
      "  from ipykernel import kernelapp as app\n"
     ]
    },
    {
     "data": {
      "text/html": [
       "<div>\n",
       "<style scoped>\n",
       "    .dataframe tbody tr th:only-of-type {\n",
       "        vertical-align: middle;\n",
       "    }\n",
       "\n",
       "    .dataframe tbody tr th {\n",
       "        vertical-align: top;\n",
       "    }\n",
       "\n",
       "    .dataframe thead th {\n",
       "        text-align: right;\n",
       "    }\n",
       "</style>\n",
       "<table border=\"1\" class=\"dataframe\">\n",
       "  <thead>\n",
       "    <tr style=\"text-align: right;\">\n",
       "      <th></th>\n",
       "      <th>dissimilarity_score</th>\n",
       "      <th>accuracy</th>\n",
       "      <th>accuracy_random</th>\n",
       "    </tr>\n",
       "  </thead>\n",
       "  <tbody>\n",
       "    <tr>\n",
       "      <th>0</th>\n",
       "      <td>0.00</td>\n",
       "      <td>0.7808</td>\n",
       "      <td>0.4896</td>\n",
       "    </tr>\n",
       "    <tr>\n",
       "      <th>1</th>\n",
       "      <td>0.01</td>\n",
       "      <td>0.8256</td>\n",
       "      <td>0.5184</td>\n",
       "    </tr>\n",
       "    <tr>\n",
       "      <th>2</th>\n",
       "      <td>0.02</td>\n",
       "      <td>0.8192</td>\n",
       "      <td>0.5024</td>\n",
       "    </tr>\n",
       "    <tr>\n",
       "      <th>3</th>\n",
       "      <td>0.03</td>\n",
       "      <td>0.8272</td>\n",
       "      <td>0.5136</td>\n",
       "    </tr>\n",
       "    <tr>\n",
       "      <th>4</th>\n",
       "      <td>0.04</td>\n",
       "      <td>0.8032</td>\n",
       "      <td>0.5104</td>\n",
       "    </tr>\n",
       "    <tr>\n",
       "      <th>5</th>\n",
       "      <td>0.05</td>\n",
       "      <td>0.7904</td>\n",
       "      <td>0.5392</td>\n",
       "    </tr>\n",
       "    <tr>\n",
       "      <th>6</th>\n",
       "      <td>0.06</td>\n",
       "      <td>0.7584</td>\n",
       "      <td>0.5072</td>\n",
       "    </tr>\n",
       "    <tr>\n",
       "      <th>7</th>\n",
       "      <td>0.07</td>\n",
       "      <td>0.7376</td>\n",
       "      <td>0.4512</td>\n",
       "    </tr>\n",
       "    <tr>\n",
       "      <th>8</th>\n",
       "      <td>0.08</td>\n",
       "      <td>0.6976</td>\n",
       "      <td>0.5216</td>\n",
       "    </tr>\n",
       "    <tr>\n",
       "      <th>9</th>\n",
       "      <td>0.09</td>\n",
       "      <td>0.6416</td>\n",
       "      <td>0.5200</td>\n",
       "    </tr>\n",
       "    <tr>\n",
       "      <th>10</th>\n",
       "      <td>0.10</td>\n",
       "      <td>0.6096</td>\n",
       "      <td>0.4976</td>\n",
       "    </tr>\n",
       "    <tr>\n",
       "      <th>11</th>\n",
       "      <td>0.11</td>\n",
       "      <td>0.5504</td>\n",
       "      <td>0.4432</td>\n",
       "    </tr>\n",
       "    <tr>\n",
       "      <th>12</th>\n",
       "      <td>0.12</td>\n",
       "      <td>0.5216</td>\n",
       "      <td>0.4976</td>\n",
       "    </tr>\n",
       "    <tr>\n",
       "      <th>13</th>\n",
       "      <td>0.13</td>\n",
       "      <td>0.4512</td>\n",
       "      <td>0.5088</td>\n",
       "    </tr>\n",
       "    <tr>\n",
       "      <th>14</th>\n",
       "      <td>0.14</td>\n",
       "      <td>0.4016</td>\n",
       "      <td>0.5152</td>\n",
       "    </tr>\n",
       "    <tr>\n",
       "      <th>15</th>\n",
       "      <td>0.15</td>\n",
       "      <td>0.3664</td>\n",
       "      <td>0.4736</td>\n",
       "    </tr>\n",
       "    <tr>\n",
       "      <th>16</th>\n",
       "      <td>0.16</td>\n",
       "      <td>0.3360</td>\n",
       "      <td>0.4672</td>\n",
       "    </tr>\n",
       "    <tr>\n",
       "      <th>17</th>\n",
       "      <td>0.17</td>\n",
       "      <td>0.2992</td>\n",
       "      <td>0.4928</td>\n",
       "    </tr>\n",
       "    <tr>\n",
       "      <th>18</th>\n",
       "      <td>0.18</td>\n",
       "      <td>0.2880</td>\n",
       "      <td>0.4944</td>\n",
       "    </tr>\n",
       "    <tr>\n",
       "      <th>19</th>\n",
       "      <td>0.19</td>\n",
       "      <td>0.2800</td>\n",
       "      <td>0.4768</td>\n",
       "    </tr>\n",
       "    <tr>\n",
       "      <th>20</th>\n",
       "      <td>0.20</td>\n",
       "      <td>0.2752</td>\n",
       "      <td>0.4992</td>\n",
       "    </tr>\n",
       "    <tr>\n",
       "      <th>21</th>\n",
       "      <td>0.21</td>\n",
       "      <td>0.2512</td>\n",
       "      <td>0.5376</td>\n",
       "    </tr>\n",
       "    <tr>\n",
       "      <th>22</th>\n",
       "      <td>0.22</td>\n",
       "      <td>0.2272</td>\n",
       "      <td>0.5088</td>\n",
       "    </tr>\n",
       "    <tr>\n",
       "      <th>23</th>\n",
       "      <td>0.23</td>\n",
       "      <td>0.2256</td>\n",
       "      <td>0.4880</td>\n",
       "    </tr>\n",
       "    <tr>\n",
       "      <th>24</th>\n",
       "      <td>0.24</td>\n",
       "      <td>0.2224</td>\n",
       "      <td>0.4992</td>\n",
       "    </tr>\n",
       "    <tr>\n",
       "      <th>25</th>\n",
       "      <td>0.25</td>\n",
       "      <td>0.2208</td>\n",
       "      <td>0.5056</td>\n",
       "    </tr>\n",
       "  </tbody>\n",
       "</table>\n",
       "</div>"
      ],
      "text/plain": [
       "    dissimilarity_score  accuracy  accuracy_random\n",
       "0                  0.00    0.7808           0.4896\n",
       "1                  0.01    0.8256           0.5184\n",
       "2                  0.02    0.8192           0.5024\n",
       "3                  0.03    0.8272           0.5136\n",
       "4                  0.04    0.8032           0.5104\n",
       "5                  0.05    0.7904           0.5392\n",
       "6                  0.06    0.7584           0.5072\n",
       "7                  0.07    0.7376           0.4512\n",
       "8                  0.08    0.6976           0.5216\n",
       "9                  0.09    0.6416           0.5200\n",
       "10                 0.10    0.6096           0.4976\n",
       "11                 0.11    0.5504           0.4432\n",
       "12                 0.12    0.5216           0.4976\n",
       "13                 0.13    0.4512           0.5088\n",
       "14                 0.14    0.4016           0.5152\n",
       "15                 0.15    0.3664           0.4736\n",
       "16                 0.16    0.3360           0.4672\n",
       "17                 0.17    0.2992           0.4928\n",
       "18                 0.18    0.2880           0.4944\n",
       "19                 0.19    0.2800           0.4768\n",
       "20                 0.20    0.2752           0.4992\n",
       "21                 0.21    0.2512           0.5376\n",
       "22                 0.22    0.2272           0.5088\n",
       "23                 0.23    0.2256           0.4880\n",
       "24                 0.24    0.2224           0.4992\n",
       "25                 0.25    0.2208           0.5056"
      ]
     },
     "execution_count": 180,
     "metadata": {},
     "output_type": "execute_result"
    }
   ],
   "source": [
    "dissimilarity_score = np.arange(0.0,max(df['dissimilarity']), 0.01)\n",
    "cols = ['dissimilarity_score', 'accuracy', 'accuracy_random']\n",
    "lst = []\n",
    "\n",
    "for i in dissimilarity_score:\n",
    "    df['prediction'] = 0\n",
    "    df['prediction'][df['dissimilarity'] >= i] = 1\n",
    "   \n",
    "    df['correct'] = 0\n",
    "    df['correct'][df['prediction']  == df['output']] = 1\n",
    "    \n",
    "    rand = np.random.randint(2, size=len(df))\n",
    "    df['random_guess'] = rand.tolist()\n",
    "    df['correct_guess'] = 0\n",
    "    df['correct_guess'][df['random_guess'] == df['output']] = 1\n",
    "    \n",
    "    acc = sum(df['correct']) / len(df)\n",
    "    acc_guess = sum(df['correct_guess']) / len(df)\n",
    "    lst.append([i, acc, acc_guess])\n",
    "\n",
    "df = pd.DataFrame(lst, columns=cols)\n",
    "df"
   ]
  },
  {
   "cell_type": "code",
   "execution_count": 184,
   "metadata": {
    "scrolled": true
   },
   "outputs": [
    {
     "name": "stdout",
     "output_type": "stream",
     "text": [
      "<class 'pandas.core.frame.DataFrame'>\n",
      "RangeIndex: 625 entries, 0 to 624\n",
      "Data columns (total 8 columns):\n",
      "class0           625 non-null float64\n",
      "class1           625 non-null float64\n",
      "output           625 non-null int64\n",
      "dissimilarity    625 non-null float64\n",
      "prediction       625 non-null int64\n",
      "correct          625 non-null int64\n",
      "random_guess     625 non-null int64\n",
      "correct_guess    625 non-null int64\n",
      "dtypes: float64(3), int64(5)\n",
      "memory usage: 39.1 KB\n"
     ]
    }
   ],
   "source": [
    "train_set.info()"
   ]
  },
  {
   "cell_type": "code",
   "execution_count": 186,
   "metadata": {},
   "outputs": [],
   "source": [
    "train_set.drop(['class0','class1','prediction','correct','random_guess','correct_guess'],axis=1,inplace=True)"
   ]
  },
  {
   "cell_type": "code",
   "execution_count": 187,
   "metadata": {},
   "outputs": [],
   "source": [
    "from sklearn.model_selection import train_test_split\n",
    "X_train, X_test, y_train, y_test = train_test_split(train_set.drop('output',axis=1), \n",
    "                                                    train_set['output'], test_size=0.30, \n",
    "                                                    random_state=101)"
   ]
  },
  {
   "cell_type": "code",
   "execution_count": 188,
   "metadata": {},
   "outputs": [
    {
     "name": "stderr",
     "output_type": "stream",
     "text": [
      "/Users/matthewpotts/anaconda3/lib/python3.7/site-packages/sklearn/linear_model/logistic.py:433: FutureWarning: Default solver will be changed to 'lbfgs' in 0.22. Specify a solver to silence this warning.\n",
      "  FutureWarning)\n"
     ]
    }
   ],
   "source": [
    "from sklearn.linear_model import LogisticRegression\n",
    "logmodel = LogisticRegression()\n",
    "logmodel.fit(X_train,y_train)\n",
    "predictions = logmodel.predict(X_test)"
   ]
  },
  {
   "cell_type": "code",
   "execution_count": 189,
   "metadata": {},
   "outputs": [
    {
     "name": "stdout",
     "output_type": "stream",
     "text": [
      "              precision    recall  f1-score   support\n",
      "\n",
      "           0       0.00      0.00      0.00        40\n",
      "           1       0.79      1.00      0.88       148\n",
      "\n",
      "   micro avg       0.79      0.79      0.79       188\n",
      "   macro avg       0.39      0.50      0.44       188\n",
      "weighted avg       0.62      0.79      0.69       188\n",
      "\n"
     ]
    },
    {
     "name": "stderr",
     "output_type": "stream",
     "text": [
      "/Users/matthewpotts/anaconda3/lib/python3.7/site-packages/sklearn/metrics/classification.py:1143: UndefinedMetricWarning: Precision and F-score are ill-defined and being set to 0.0 in labels with no predicted samples.\n",
      "  'precision', 'predicted', average, warn_for)\n",
      "/Users/matthewpotts/anaconda3/lib/python3.7/site-packages/sklearn/metrics/classification.py:1143: UndefinedMetricWarning: Precision and F-score are ill-defined and being set to 0.0 in labels with no predicted samples.\n",
      "  'precision', 'predicted', average, warn_for)\n",
      "/Users/matthewpotts/anaconda3/lib/python3.7/site-packages/sklearn/metrics/classification.py:1143: UndefinedMetricWarning: Precision and F-score are ill-defined and being set to 0.0 in labels with no predicted samples.\n",
      "  'precision', 'predicted', average, warn_for)\n"
     ]
    }
   ],
   "source": [
    "from sklearn.metrics import classification_report\n",
    "print(classification_report(y_test,predictions))"
   ]
  },
  {
   "cell_type": "code",
   "execution_count": 16,
   "metadata": {},
   "outputs": [],
   "source": [
    "folder_dataset_test = dset.ImageFolder(root=Config.testing_dir)\n",
    "siamese_dataset = SiameseNetworkDataset(imageFolderDataset=folder_dataset_test,\n",
    "                                        transform=transforms.Compose([transforms.Resize((100,100)),\n",
    "                                                                      transforms.ToTensor()\n",
    "                                                                      ])\n",
    "                                       ,should_invert=False)\n"
   ]
  },
  {
   "cell_type": "code",
   "execution_count": 20,
   "metadata": {
    "collapsed": true
   },
   "outputs": [],
   "source": [
    "test_dataloader = DataLoader(siamese_dataset,num_workers=6,batch_size=1,shuffle=True)"
   ]
  },
  {
   "cell_type": "code",
   "execution_count": 21,
   "metadata": {
    "collapsed": true
   },
   "outputs": [],
   "source": [
    "dataiter = iter(test_dataloader)"
   ]
  },
  {
   "cell_type": "code",
   "execution_count": 22,
   "metadata": {},
   "outputs": [
    {
     "data": {
      "text/plain": [
       "<torch.utils.data.dataloader._DataLoaderIter at 0x122f72860>"
      ]
     },
     "execution_count": 22,
     "metadata": {},
     "output_type": "execute_result"
    }
   ],
   "source": [
    "dataiter"
   ]
  },
  {
   "cell_type": "code",
   "execution_count": 93,
   "metadata": {},
   "outputs": [],
   "source": [
    "x0,_,_ = next(dataiter)"
   ]
  },
  {
   "cell_type": "code",
   "execution_count": 94,
   "metadata": {},
   "outputs": [
    {
     "data": {
      "text/plain": [
       "tensor([[0.]])"
      ]
     },
     "execution_count": 94,
     "metadata": {},
     "output_type": "execute_result"
    }
   ],
   "source": [
    "_"
   ]
  },
  {
   "cell_type": "code",
   "execution_count": 95,
   "metadata": {},
   "outputs": [
    {
     "data": {
      "text/plain": [
       "tensor([[[[1., 1., 1.,  ..., 1., 1., 1.],\n",
       "          [1., 1., 1.,  ..., 1., 1., 1.],\n",
       "          [1., 1., 1.,  ..., 1., 1., 1.],\n",
       "          ...,\n",
       "          [1., 1., 1.,  ..., 1., 1., 1.],\n",
       "          [1., 1., 1.,  ..., 1., 1., 1.],\n",
       "          [1., 1., 1.,  ..., 1., 1., 1.]],\n",
       "\n",
       "         [[1., 1., 1.,  ..., 1., 1., 1.],\n",
       "          [1., 1., 1.,  ..., 1., 1., 1.],\n",
       "          [1., 1., 1.,  ..., 1., 1., 1.],\n",
       "          ...,\n",
       "          [1., 1., 1.,  ..., 1., 1., 1.],\n",
       "          [1., 1., 1.,  ..., 1., 1., 1.],\n",
       "          [1., 1., 1.,  ..., 1., 1., 1.]],\n",
       "\n",
       "         [[1., 1., 1.,  ..., 1., 1., 1.],\n",
       "          [1., 1., 1.,  ..., 1., 1., 1.],\n",
       "          [1., 1., 1.,  ..., 1., 1., 1.],\n",
       "          ...,\n",
       "          [1., 1., 1.,  ..., 1., 1., 1.],\n",
       "          [1., 1., 1.,  ..., 1., 1., 1.],\n",
       "          [1., 1., 1.,  ..., 1., 1., 1.]]]])"
      ]
     },
     "execution_count": 95,
     "metadata": {},
     "output_type": "execute_result"
    }
   ],
   "source": [
    "x0"
   ]
  },
  {
   "cell_type": "code",
   "execution_count": 100,
   "metadata": {},
   "outputs": [
    {
     "data": {
      "text/plain": [
       "torch.Size([1, 3, 100, 100])"
      ]
     },
     "execution_count": 100,
     "metadata": {},
     "output_type": "execute_result"
    }
   ],
   "source": [
    "x0.size()"
   ]
  },
  {
   "cell_type": "code",
   "execution_count": 104,
   "metadata": {},
   "outputs": [
    {
     "data": {
      "text/plain": [
       "tensor(1.)"
      ]
     },
     "execution_count": 104,
     "metadata": {},
     "output_type": "execute_result"
    }
   ],
   "source": [
    "x0[0][0][0][1]\n"
   ]
  },
  {
   "cell_type": "code",
   "execution_count": 99,
   "metadata": {},
   "outputs": [
    {
     "data": {
      "text/plain": [
       "torch.Size([1, 3, 100, 100])"
      ]
     },
     "execution_count": 99,
     "metadata": {},
     "output_type": "execute_result"
    }
   ],
   "source": [
    "x1.size()"
   ]
  },
  {
   "cell_type": "code",
   "execution_count": 105,
   "metadata": {},
   "outputs": [
    {
     "data": {
      "text/plain": [
       "tensor(1.)"
      ]
     },
     "execution_count": 105,
     "metadata": {},
     "output_type": "execute_result"
    }
   ],
   "source": [
    "x1[0][0][0][1]"
   ]
  },
  {
   "cell_type": "code",
   "execution_count": 106,
   "metadata": {},
   "outputs": [
    {
     "data": {
      "text/plain": [
       "tensor([[[[1.0000, 1.0000, 1.0000,  ..., 1.0000, 1.0000, 1.0000],\n",
       "          [1.0000, 1.0000, 1.0000,  ..., 0.9961, 1.0000, 1.0000],\n",
       "          [1.0000, 1.0000, 1.0000,  ..., 0.9961, 0.9961, 1.0000],\n",
       "          ...,\n",
       "          [1.0000, 1.0000, 0.9961,  ..., 0.9804, 0.9843, 0.9882],\n",
       "          [1.0000, 1.0000, 0.9961,  ..., 0.9843, 0.9882, 0.9922],\n",
       "          [1.0000, 1.0000, 1.0000,  ..., 0.9882, 0.9882, 0.9922]],\n",
       "\n",
       "         [[1.0000, 1.0000, 1.0000,  ..., 1.0000, 1.0000, 1.0000],\n",
       "          [1.0000, 1.0000, 1.0000,  ..., 0.9961, 1.0000, 1.0000],\n",
       "          [1.0000, 1.0000, 1.0000,  ..., 0.9961, 0.9961, 1.0000],\n",
       "          ...,\n",
       "          [1.0000, 1.0000, 0.9961,  ..., 0.9804, 0.9843, 0.9882],\n",
       "          [1.0000, 1.0000, 0.9961,  ..., 0.9843, 0.9882, 0.9922],\n",
       "          [1.0000, 1.0000, 1.0000,  ..., 0.9882, 0.9882, 0.9922]],\n",
       "\n",
       "         [[1.0000, 1.0000, 1.0000,  ..., 1.0000, 1.0000, 1.0000],\n",
       "          [1.0000, 1.0000, 1.0000,  ..., 0.9961, 1.0000, 1.0000],\n",
       "          [1.0000, 1.0000, 1.0000,  ..., 0.9961, 0.9961, 1.0000],\n",
       "          ...,\n",
       "          [1.0000, 1.0000, 0.9961,  ..., 0.9804, 0.9843, 0.9882],\n",
       "          [1.0000, 1.0000, 0.9961,  ..., 0.9843, 0.9882, 0.9922],\n",
       "          [1.0000, 1.0000, 1.0000,  ..., 0.9882, 0.9882, 0.9922]]]])"
      ]
     },
     "execution_count": 106,
     "metadata": {},
     "output_type": "execute_result"
    }
   ],
   "source": [
    "x1"
   ]
  },
  {
   "cell_type": "code",
   "execution_count": null,
   "metadata": {
    "collapsed": true
   },
   "outputs": [],
   "source": [
    "for i in range(100):\n",
    "    _,x1,label2 = next(dataiter)\n",
    "    print(label2)\n",
    "    print(_)\n",
    "    print(x1)\n",
    "    print(i)\n",
    "    concatenated = torch.cat((x0,x1),0)\n",
    "    \n",
    "    output1,output2 = net(Variable(x0),Variable(x1))\n",
    "    euclidean_distance = F.pairwise_distance(output1, output2)\n",
    "    imshow(torchvision.utils.make_grid(concatenated),'Dissimilarity: {:.2f}'.format(euclidean_distance.item()))\n",
    "    print(euclidean_distance)\n"
   ]
  },
  {
   "cell_type": "code",
   "execution_count": null,
   "metadata": {
    "collapsed": true
   },
   "outputs": [],
   "source": []
  }
 ],
 "metadata": {
  "hide_input": false,
  "kernelspec": {
   "display_name": "Python 3",
   "language": "python",
   "name": "python3"
  },
  "language_info": {
   "codemirror_mode": {
    "name": "ipython",
    "version": 3
   },
   "file_extension": ".py",
   "mimetype": "text/x-python",
   "name": "python",
   "nbconvert_exporter": "python",
   "pygments_lexer": "ipython3",
   "version": "3.7.1"
  }
 },
 "nbformat": 4,
 "nbformat_minor": 2
}
