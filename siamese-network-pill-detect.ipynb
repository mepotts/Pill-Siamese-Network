{
 "cells": [
  {
   "cell_type": "markdown",
   "metadata": {},
   "source": [
    "# One Shot Learning with Siamese Networks\n",
    "\n",
    "This is the jupyter notebook that accompanies"
   ]
  },
  {
   "cell_type": "markdown",
   "metadata": {},
   "source": [
    "## Imports\n",
    "All the imports are defined here"
   ]
  },
  {
   "cell_type": "code",
   "execution_count": 1,
   "metadata": {},
   "outputs": [],
   "source": [
    "%matplotlib inline\n",
    "import torchvision\n",
    "import torchvision.datasets as dset\n",
    "import torchvision.transforms as transforms\n",
    "from torch.utils.data import DataLoader,Dataset\n",
    "import matplotlib.pyplot as plt\n",
    "import torchvision.utils\n",
    "import numpy as np\n",
    "import random\n",
    "from PIL import Image\n",
    "import torch\n",
    "from torch.autograd import Variable\n",
    "import PIL.ImageOps    \n",
    "import torch.nn as nn\n",
    "from torch import optim\n",
    "import torch.nn.functional as F\n",
    "import pandas as pd\n",
    "import warnings\n",
    "warnings.filterwarnings('ignore')"
   ]
  },
  {
   "cell_type": "markdown",
   "metadata": {},
   "source": [
    "## Helper functions\n",
    "Set of helper functions"
   ]
  },
  {
   "cell_type": "code",
   "execution_count": 2,
   "metadata": {},
   "outputs": [],
   "source": [
    "def imshow(img,text=None,should_save=False):\n",
    "    npimg = img.numpy()\n",
    "    plt.axis(\"off\")\n",
    "    if text:\n",
    "        plt.text(75, 8, text, style='italic',fontweight='bold',\n",
    "            bbox={'facecolor':'white', 'alpha':0.8, 'pad':10})\n",
    "    plt.imshow(np.transpose(npimg, (1, 2, 0)))\n",
    "    plt.show()    \n",
    "\n",
    "def show_plot(iteration,loss):\n",
    "    plt.plot(iteration,loss)\n",
    "    plt.show()"
   ]
  },
  {
   "cell_type": "markdown",
   "metadata": {},
   "source": [
    "## Configuration Class\n",
    "A simple class to manage configuration"
   ]
  },
  {
   "cell_type": "code",
   "execution_count": 3,
   "metadata": {},
   "outputs": [],
   "source": [
    "class Config():\n",
    "    training_dir = \"./data-cropped/pills/training/\"\n",
    "    testing_dir = \"./data-cropped/pills/testing/\"\n",
    "    train_batch_size = 16\n",
    "    train_number_epochs = 1"
   ]
  },
  {
   "cell_type": "markdown",
   "metadata": {},
   "source": [
    "## Custom Dataset Class\n",
    "This dataset generates a pair of images. 0 for geniune pair and 1 for imposter pair"
   ]
  },
  {
   "cell_type": "code",
   "execution_count": 4,
   "metadata": {},
   "outputs": [],
   "source": [
    "class SiameseNetworkDataset(Dataset):\n",
    "    \n",
    "    def __init__(self,imageFolderDataset,transform=None,should_invert=True):\n",
    "        self.imageFolderDataset = imageFolderDataset    \n",
    "        self.transform = transform\n",
    "        self.should_invert = should_invert\n",
    "        \n",
    "    def __getitem__(self,index):\n",
    "        img0_tuple = random.choice(self.imageFolderDataset.imgs)\n",
    "        #we need to make sure approx 50% of images are in the same class\n",
    "        should_get_same_class = random.randint(0,1) \n",
    "        if should_get_same_class:\n",
    "            while True:\n",
    "                #keep looping till the same class image is found\n",
    "                img1_tuple = random.choice(self.imageFolderDataset.imgs) \n",
    "                if img0_tuple[1]==img1_tuple[1]:\n",
    "                    break\n",
    "        else:\n",
    "            while True:\n",
    "                #keep looping till a different class image is found\n",
    "                \n",
    "                img1_tuple = random.choice(self.imageFolderDataset.imgs) \n",
    "                if img0_tuple[1] !=img1_tuple[1]:\n",
    "                    break\n",
    "\n",
    "        img0 = Image.open(img0_tuple[0])\n",
    "        img1 = Image.open(img1_tuple[0])\n",
    "        #img0 = img0.convert(\"L\")\n",
    "        #img1 = img1.convert(\"L\")\n",
    "        \n",
    "        if self.should_invert:\n",
    "            img0 = PIL.ImageOps.invert(img0)\n",
    "            img1 = PIL.ImageOps.invert(img1)\n",
    "\n",
    "        if self.transform is not None:\n",
    "            img0 = self.transform(img0)\n",
    "            img1 = self.transform(img1)\n",
    "        \n",
    "        return img0, img1 , torch.from_numpy(np.array([int(img1_tuple[1]!=img0_tuple[1])],dtype=np.float32)), torch.from_numpy(np.array([int(img0_tuple[1])],dtype=np.float32)),torch.from_numpy(np.array([int(img1_tuple[1])],dtype=np.float32))\n",
    "    \n",
    "    def __len__(self):\n",
    "        return len(self.imageFolderDataset.imgs)"
   ]
  },
  {
   "cell_type": "markdown",
   "metadata": {},
   "source": [
    "## Using Image Folder Dataset"
   ]
  },
  {
   "cell_type": "code",
   "execution_count": 5,
   "metadata": {},
   "outputs": [],
   "source": [
    "folder_dataset = dset.ImageFolder(root=Config.training_dir)"
   ]
  },
  {
   "cell_type": "code",
   "execution_count": 6,
   "metadata": {},
   "outputs": [],
   "source": [
    "siamese_dataset = SiameseNetworkDataset(imageFolderDataset=folder_dataset,\n",
    "                                        transform=transforms.Compose([transforms.Resize((100,100)),\n",
    "                                                                      transforms.ToTensor()\n",
    "                                                                      ])\n",
    "                                       ,should_invert=False)"
   ]
  },
  {
   "cell_type": "code",
   "execution_count": 7,
   "metadata": {},
   "outputs": [],
   "source": [
    "img0_tuple = random.choice(folder_dataset.imgs)"
   ]
  },
  {
   "cell_type": "code",
   "execution_count": 8,
   "metadata": {},
   "outputs": [
    {
     "data": {
      "text/plain": [
       "('./data-cropped/pills/training/p810/3340.jpg', 1744)"
      ]
     },
     "execution_count": 8,
     "metadata": {},
     "output_type": "execute_result"
    }
   ],
   "source": [
    "img0_tuple"
   ]
  },
  {
   "cell_type": "markdown",
   "metadata": {},
   "source": [
    "## Visualising some of the data\n",
    "The top row and the bottom row of any column is one pair. The 0s and 1s correspond to the column of the image.\n",
    "1 indiciates dissimilar, and 0 indicates similar."
   ]
  },
  {
   "cell_type": "code",
   "execution_count": 9,
   "metadata": {},
   "outputs": [
    {
     "data": {
      "image/png": "[encoded data removed]",
      "text/plain": [
       "<Figure size 432x288 with 1 Axes>"
      ]
     },
     "metadata": {
      "needs_background": "light"
     },
     "output_type": "display_data"
    },
    {
     "name": "stdout",
     "output_type": "stream",
     "text": [
      "[[1.]\n",
      " [1.]\n",
      " [0.]\n",
      " [0.]\n",
      " [1.]\n",
      " [1.]\n",
      " [1.]\n",
      " [0.]]\n"
     ]
    }
   ],
   "source": [
    "vis_dataloader = DataLoader(siamese_dataset,\n",
    "                        shuffle=True,\n",
    "                        num_workers=8,\n",
    "                        batch_size=8)\n",
    "dataiter = iter(vis_dataloader)\n",
    "\n",
    "\n",
    "example_batch = next(dataiter)\n",
    "concatenated = torch.cat((example_batch[0],example_batch[1]),0)\n",
    "imshow(torchvision.utils.make_grid(concatenated))\n",
    "print(example_batch[2].numpy())"
   ]
  },
  {
   "cell_type": "markdown",
   "metadata": {
    "collapsed": true
   },
   "source": [
    "## Neural Net Definition\n",
    "We will use a standard convolutional neural network"
   ]
  },
  {
   "cell_type": "code",
   "execution_count": 10,
   "metadata": {},
   "outputs": [],
   "source": [
    "class SiameseNetwork(nn.Module):\n",
    "    def __init__(self):\n",
    "        super(SiameseNetwork, self).__init__()\n",
    "        self.cnn1 = nn.Sequential(\n",
    "            nn.ReflectionPad2d(1),\n",
    "            nn.Conv2d(3, 12, kernel_size=3),\n",
    "            nn.ReLU(inplace=True),\n",
    "            nn.BatchNorm2d(12),\n",
    "            \n",
    "            nn.ReflectionPad2d(1),\n",
    "            nn.Conv2d(12, 12, kernel_size=3),\n",
    "            nn.ReLU(inplace=True),\n",
    "            nn.BatchNorm2d(12),\n",
    "\n",
    "\n",
    "            nn.ReflectionPad2d(1),\n",
    "            nn.Conv2d(12, 24, kernel_size=3),\n",
    "            nn.ReLU(inplace=True),\n",
    "            nn.BatchNorm2d(24),\n",
    "\n",
    "\n",
    "        )\n",
    "\n",
    "        self.fc1 = nn.Sequential(\n",
    "            nn.Linear(24*100*100, 20),\n",
    "            nn.ReLU(inplace=True),\n",
    "\n",
    "            nn.Linear(20, 20),\n",
    "            nn.ReLU(inplace=True),\n",
    "\n",
    "            nn.Linear(20, 5))\n",
    "\n",
    "    def forward_once(self, x):\n",
    "        output = self.cnn1(x)\n",
    "        output = output.view(output.size()[0], -1)\n",
    "        output = self.fc1(output)\n",
    "        return output\n",
    "\n",
    "    def forward(self, input1, input2):\n",
    "        output1 = self.forward_once(input1)\n",
    "        output2 = self.forward_once(input2)\n",
    "        return output1, output2"
   ]
  },
  {
   "cell_type": "markdown",
   "metadata": {},
   "source": [
    "## Contrastive Loss"
   ]
  },
  {
   "cell_type": "code",
   "execution_count": 11,
   "metadata": {},
   "outputs": [],
   "source": [
    "class ContrastiveLoss(torch.nn.Module):\n",
    "    \"\"\"\n",
    "    Contrastive loss function.\n",
    "    Based on: http://yann.lecun.com/exdb/publis/pdf/hadsell-chopra-lecun-06.pdf\n",
    "    \"\"\"\n",
    "\n",
    "    def __init__(self, margin=0.5):\n",
    "        super(ContrastiveLoss, self).__init__()\n",
    "        self.margin = margin\n",
    "\n",
    "    def forward(self, output1, output2, label):\n",
    "        euclidean_distance = F.pairwise_distance(output1, output2)\n",
    "        loss_contrastive = torch.mean((1-label) * torch.pow(euclidean_distance, 2) +\n",
    "                                      (label) * torch.pow(torch.clamp(self.margin - euclidean_distance, min=0.0), 2))\n",
    "\n",
    "\n",
    "        return loss_contrastive"
   ]
  },
  {
   "cell_type": "markdown",
   "metadata": {},
   "source": [
    "## Training Time!"
   ]
  },
  {
   "cell_type": "code",
   "execution_count": 12,
   "metadata": {},
   "outputs": [],
   "source": [
    "train_dataloader = DataLoader(siamese_dataset,\n",
    "                        shuffle=True,\n",
    "                        num_workers=8,\n",
    "                        batch_size=Config.train_batch_size)"
   ]
  },
  {
   "cell_type": "code",
   "execution_count": 13,
   "metadata": {},
   "outputs": [],
   "source": [
    "net = SiameseNetwork()\n",
    "criterion = ContrastiveLoss()\n",
    "optimizer = optim.Adam(net.parameters(),lr = 0.0005 )"
   ]
  },
  {
   "cell_type": "code",
   "execution_count": 14,
   "metadata": {},
   "outputs": [],
   "source": [
    "counter = []\n",
    "loss_history = [] \n",
    "iteration_number= 0"
   ]
  },
  {
   "cell_type": "code",
   "execution_count": 15,
   "metadata": {
    "scrolled": true
   },
   "outputs": [
    {
     "name": "stdout",
     "output_type": "stream",
     "text": [
      "Epoch number 0\n",
      " Current loss 0.11636290699243546\n",
      "\n",
      "Epoch number 0\n",
      " Current loss 2.6937122344970703\n",
      "\n",
      "Epoch number 0\n",
      " Current loss 2.0095717906951904\n",
      "\n",
      "Epoch number 0\n",
      " Current loss 2.8346357345581055\n",
      "\n",
      "Epoch number 0\n",
      " Current loss 1.5862284898757935\n",
      "\n",
      "Epoch number 0\n",
      " Current loss 0.9576196074485779\n",
      "\n",
      "Epoch number 0\n",
      " Current loss 0.5028417706489563\n",
      "\n",
      "Epoch number 0\n",
      " Current loss 0.26806002855300903\n",
      "\n",
      "Epoch number 0\n",
      " Current loss 0.13265354931354523\n",
      "\n",
      "Epoch number 0\n",
      " Current loss 0.7701609134674072\n",
      "\n",
      "Epoch number 0\n",
      " Current loss 0.3710567355155945\n",
      "\n",
      "Epoch number 0\n",
      " Current loss 0.1827550232410431\n",
      "\n",
      "Epoch number 0\n",
      " Current loss 0.17801645398139954\n",
      "\n",
      "Epoch number 0\n",
      " Current loss 0.4032894968986511\n",
      "\n",
      "Epoch number 0\n",
      " Current loss 0.19813120365142822\n",
      "\n",
      "Epoch number 0\n",
      " Current loss 0.14073562622070312\n",
      "\n",
      "Epoch number 0\n",
      " Current loss 0.2717474699020386\n",
      "\n",
      "Epoch number 0\n",
      " Current loss 0.16972780227661133\n",
      "\n",
      "Epoch number 0\n",
      " Current loss 0.22965078055858612\n",
      "\n",
      "Epoch number 0\n",
      " Current loss 0.11789171397686005\n",
      "\n",
      "Epoch number 0\n",
      " Current loss 0.09071094542741776\n",
      "\n",
      "Epoch number 0\n",
      " Current loss 0.1064765602350235\n",
      "\n",
      "Epoch number 0\n",
      " Current loss 0.12915745377540588\n",
      "\n",
      "Epoch number 0\n",
      " Current loss 0.14695969223976135\n",
      "\n",
      "Epoch number 0\n",
      " Current loss 0.11493884027004242\n",
      "\n",
      "Epoch number 0\n",
      " Current loss 0.09690584242343903\n",
      "\n",
      "Epoch number 0\n",
      " Current loss 0.08034930378198624\n",
      "\n",
      "Epoch number 0\n",
      " Current loss 0.09963693469762802\n",
      "\n",
      "Epoch number 0\n",
      " Current loss 0.09752760827541351\n",
      "\n",
      "Epoch number 0\n",
      " Current loss 0.07342573255300522\n",
      "\n",
      "Epoch number 0\n",
      " Current loss 0.09682397544384003\n",
      "\n",
      "Epoch number 0\n",
      " Current loss 0.07618691027164459\n",
      "\n",
      "Epoch number 0\n",
      " Current loss 0.07074247300624847\n",
      "\n",
      "Epoch number 0\n",
      " Current loss 0.07355348765850067\n",
      "\n",
      "Epoch number 0\n",
      " Current loss 0.08389692008495331\n",
      "\n",
      "Epoch number 0\n",
      " Current loss 0.13380442559719086\n",
      "\n",
      "Epoch number 0\n",
      " Current loss 0.10344753414392471\n",
      "\n",
      "Epoch number 0\n",
      " Current loss 0.09184197336435318\n",
      "\n",
      "Epoch number 0\n",
      " Current loss 0.07609360665082932\n",
      "\n",
      "Epoch number 0\n",
      " Current loss 0.08005029708147049\n",
      "\n",
      "Epoch number 0\n",
      " Current loss 0.09388739615678787\n",
      "\n",
      "Epoch number 0\n",
      " Current loss 0.08676335960626602\n",
      "\n",
      "Epoch number 0\n",
      " Current loss 0.10767717659473419\n",
      "\n",
      "Epoch number 0\n",
      " Current loss 0.12400210648775101\n",
      "\n",
      "Epoch number 0\n",
      " Current loss 0.09946055710315704\n",
      "\n",
      "Epoch number 0\n",
      " Current loss 0.2098337709903717\n",
      "\n",
      "Epoch number 0\n",
      " Current loss 0.10384120047092438\n",
      "\n",
      "Epoch number 0\n",
      " Current loss 0.08996209502220154\n",
      "\n",
      "Epoch number 0\n",
      " Current loss 0.08954793214797974\n",
      "\n",
      "Epoch number 0\n",
      " Current loss 0.08415624499320984\n",
      "\n",
      "Epoch number 0\n",
      " Current loss 0.08201223611831665\n",
      "\n",
      "Epoch number 0\n",
      " Current loss 0.06640948355197906\n",
      "\n",
      "Epoch number 0\n",
      " Current loss 0.09446766972541809\n",
      "\n",
      "Epoch number 0\n",
      " Current loss 0.07443071901798248\n",
      "\n",
      "Epoch number 0\n",
      " Current loss 0.0813952162861824\n",
      "\n",
      "Epoch number 0\n",
      " Current loss 0.0858648419380188\n",
      "\n",
      "Epoch number 0\n",
      " Current loss 0.08889499306678772\n",
      "\n",
      "Epoch number 0\n",
      " Current loss 0.07920593023300171\n",
      "\n",
      "Epoch number 0\n",
      " Current loss 0.07855889946222305\n",
      "\n",
      "Epoch number 0\n",
      " Current loss 0.07339973747730255\n",
      "\n"
     ]
    },
    {
     "data": {
      "image/png": "[encoded data removed]",
      "text/plain": [
       "<Figure size 432x288 with 1 Axes>"
      ]
     },
     "metadata": {
      "needs_background": "light"
     },
     "output_type": "display_data"
    }
   ],
   "source": [
    "for epoch in range(0,Config.train_number_epochs):\n",
    "    for i, data in enumerate(train_dataloader,0):\n",
    "        img0, img1 , label, _, _ = data\n",
    "        img0, img1 , label = img0, img1 , label\n",
    "        optimizer.zero_grad()\n",
    "        output1,output2 = net(img0,img1)\n",
    "        loss_contrastive = criterion(output1,output2,label)\n",
    "        loss_contrastive.backward()\n",
    "        optimizer.step()\n",
    "        if i %10 == 0 :\n",
    "            print(\"Epoch number {}\\n Current loss {}\\n\".format(epoch,loss_contrastive.item()))\n",
    "            iteration_number +=10\n",
    "            counter.append(iteration_number)\n",
    "            loss_history.append(loss_contrastive.item())\n",
    "show_plot(counter,loss_history)"
   ]
  },
  {
   "cell_type": "code",
   "execution_count": 15,
   "metadata": {},
   "outputs": [
    {
     "ename": "NameError",
     "evalue": "name 'net' is not defined",
     "output_type": "error",
     "traceback": [
      "\u001b[0;31m---------------------------------------------------------------------------\u001b[0m",
      "\u001b[0;31mNameError\u001b[0m                                 Traceback (most recent call last)",
      "\u001b[0;32m<ipython-input-15-d3e61c39d23b>\u001b[0m in \u001b[0;36m<module>\u001b[0;34m\u001b[0m\n\u001b[0;32m----> 1\u001b[0;31m \u001b[0mnet\u001b[0m\u001b[0;34m\u001b[0m\u001b[0;34m\u001b[0m\u001b[0m\n\u001b[0m",
      "\u001b[0;31mNameError\u001b[0m: name 'net' is not defined"
     ]
    }
   ],
   "source": [
    "net"
   ]
  },
  {
   "cell_type": "code",
   "execution_count": 16,
   "metadata": {},
   "outputs": [],
   "source": [
    "#torch.save(net.state_dict(), 'mytraining.pt')"
   ]
  },
  {
   "cell_type": "code",
   "execution_count": 17,
   "metadata": {},
   "outputs": [],
   "source": [
    "net = SiameseNetwork()"
   ]
  },
  {
   "cell_type": "code",
   "execution_count": 18,
   "metadata": {},
   "outputs": [],
   "source": [
    "net.load_state_dict(torch.load('mytraining.pt'))"
   ]
  },
  {
   "cell_type": "code",
   "execution_count": 19,
   "metadata": {},
   "outputs": [
    {
     "data": {
      "text/plain": [
       "SiameseNetwork(\n",
       "  (cnn1): Sequential(\n",
       "    (0): ReflectionPad2d((1, 1, 1, 1))\n",
       "    (1): Conv2d(3, 12, kernel_size=(3, 3), stride=(1, 1))\n",
       "    (2): ReLU(inplace)\n",
       "    (3): BatchNorm2d(12, eps=1e-05, momentum=0.1, affine=True, track_running_stats=True)\n",
       "    (4): ReflectionPad2d((1, 1, 1, 1))\n",
       "    (5): Conv2d(12, 12, kernel_size=(3, 3), stride=(1, 1))\n",
       "    (6): ReLU(inplace)\n",
       "    (7): BatchNorm2d(12, eps=1e-05, momentum=0.1, affine=True, track_running_stats=True)\n",
       "    (8): ReflectionPad2d((1, 1, 1, 1))\n",
       "    (9): Conv2d(12, 24, kernel_size=(3, 3), stride=(1, 1))\n",
       "    (10): ReLU(inplace)\n",
       "    (11): BatchNorm2d(24, eps=1e-05, momentum=0.1, affine=True, track_running_stats=True)\n",
       "  )\n",
       "  (fc1): Sequential(\n",
       "    (0): Linear(in_features=240000, out_features=20, bias=True)\n",
       "    (1): ReLU(inplace)\n",
       "    (2): Linear(in_features=20, out_features=20, bias=True)\n",
       "    (3): ReLU(inplace)\n",
       "    (4): Linear(in_features=20, out_features=5, bias=True)\n",
       "  )\n",
       ")"
      ]
     },
     "execution_count": 19,
     "metadata": {},
     "output_type": "execute_result"
    }
   ],
   "source": [
    "net.eval()"
   ]
  },
  {
   "cell_type": "markdown",
   "metadata": {},
   "source": [
    "## Some simple testing\n",
    "The last 50 subjects were held out from the training, and will be used to test. The Distance between each image pair denotes the degree of similarity the model found between the two images. Less means it found more similar, while higher values indicate it found them to be dissimilar."
   ]
  },
  {
   "cell_type": "code",
   "execution_count": 61,
   "metadata": {
    "run_control": {
     "marked": true
    },
    "scrolled": false
   },
   "outputs": [
    {
     "name": "stdout",
     "output_type": "stream",
     "text": [
      "tensor([[30.]]) tensor([[28.]])\n"
     ]
    },
    {
     "data": {
      "image/png": "[encoded data removed]",
      "text/plain": [
       "<Figure size 432x288 with 1 Axes>"
      ]
     },
     "metadata": {
      "needs_background": "light"
     },
     "output_type": "display_data"
    }
   ],
   "source": [
    "folder_dataset_test = dset.ImageFolder(root=Config.testing_dir)\n",
    "siamese_dataset = SiameseNetworkDataset(imageFolderDataset=folder_dataset_test,\n",
    "                                        transform=transforms.Compose([transforms.Resize((100,100)),\n",
    "                                                                      transforms.ToTensor()\n",
    "                                                                      ])\n",
    "                                       ,should_invert=False)\n",
    "\n",
    "test_dataloader = DataLoader(siamese_dataset,num_workers=6,batch_size=1,shuffle=False)\n",
    "dataiter = iter(test_dataloader)\n",
    "x0,_,_,class0, _ = next(dataiter)\n",
    "\n",
    "for i in range(1):\n",
    "    _,x1,_, _, class1 = next(dataiter)\n",
    "    concatenated = torch.cat((x0,x1),0)\n",
    "    print(class0, class1)\n",
    "    \n",
    "    output1,output2 = net(Variable(x0),Variable(x1))\n",
    "    euclidean_distance = F.pairwise_distance(output1, output2)\n",
    "    imshow(torchvision.utils.make_grid(concatenated),'Dissimilarity: {:.2f}'.format(euclidean_distance.item()))\n",
    "\n"
   ]
  },
  {
   "cell_type": "code",
   "execution_count": 62,
   "metadata": {},
   "outputs": [],
   "source": [
    "import time\n",
    "folder_dataset_test = dset.ImageFolder(root=Config.testing_dir)\n",
    "siamese_dataset = SiameseNetworkDataset(imageFolderDataset=folder_dataset_test,\n",
    "                                        transform=transforms.Compose([transforms.Resize((100,100)),\n",
    "                                                                      transforms.ToTensor()\n",
    "                                                                      ])\n",
    "                                       ,should_invert=False)\n",
    "\n",
    "test_dataloader = DataLoader(siamese_dataset,num_workers=6,batch_size=1,shuffle=False)\n",
    "\n",
    "cols = ['class0','class1', 'output_true', 'dissimilarity','time(s)']\n",
    "lst = []\n",
    "\n",
    "for i_batch, sample_batched in enumerate(test_dataloader):\n",
    "    x0 = sample_batched[0]\n",
    "    class0 = sample_batched[3]\n",
    "    for i_batch, sample_batched in enumerate(test_dataloader):\n",
    "        start_time = time.time()\n",
    "        x1 = sample_batched[1]\n",
    "        class1 = sample_batched[4]\n",
    "        concatenated = torch.cat((x0,x1),0)\n",
    "        output1,output2 = net(Variable(x0),Variable(x1))\n",
    "        euclidean_distance = F.pairwise_distance(output1, output2)\n",
    "        if class0.item() == class1.item():\n",
    "            image_tup = 0\n",
    "        else:\n",
    "            image_tup = 1\n",
    "        elapsed_time = time.time() - start_time\n",
    "        lst.append([class0.item(), class1.item(), image_tup, euclidean_distance.item(), elapsed_time])\n",
    "        #print(class0.item(), class1.item(), image_tup, euclidean_distance.item())\n",
    "\n",
    "        \n",
    "df = pd.DataFrame(lst, columns=cols)"
   ]
  },
  {
   "cell_type": "code",
   "execution_count": 58,
   "metadata": {},
   "outputs": [
    {
     "data": {
      "text/html": [
       "<div>\n",
       "<style scoped>\n",
       "    .dataframe tbody tr th:only-of-type {\n",
       "        vertical-align: middle;\n",
       "    }\n",
       "\n",
       "    .dataframe tbody tr th {\n",
       "        vertical-align: top;\n",
       "    }\n",
       "\n",
       "    .dataframe thead th {\n",
       "        text-align: right;\n",
       "    }\n",
       "</style>\n",
       "<table border=\"1\" class=\"dataframe\">\n",
       "  <thead>\n",
       "    <tr style=\"text-align: right;\">\n",
       "      <th></th>\n",
       "      <th>class0</th>\n",
       "      <th>class1</th>\n",
       "      <th>output_true</th>\n",
       "      <th>dissimilarity</th>\n",
       "      <th>time(s)</th>\n",
       "    </tr>\n",
       "  </thead>\n",
       "  <tbody>\n",
       "    <tr>\n",
       "      <th>0</th>\n",
       "      <td>41.0</td>\n",
       "      <td>16.0</td>\n",
       "      <td>1</td>\n",
       "      <td>0.339709</td>\n",
       "      <td>0.063745</td>\n",
       "    </tr>\n",
       "    <tr>\n",
       "      <th>1</th>\n",
       "      <td>41.0</td>\n",
       "      <td>46.0</td>\n",
       "      <td>1</td>\n",
       "      <td>0.331649</td>\n",
       "      <td>0.051870</td>\n",
       "    </tr>\n",
       "    <tr>\n",
       "      <th>2</th>\n",
       "      <td>41.0</td>\n",
       "      <td>16.0</td>\n",
       "      <td>1</td>\n",
       "      <td>0.339709</td>\n",
       "      <td>0.023907</td>\n",
       "    </tr>\n",
       "    <tr>\n",
       "      <th>3</th>\n",
       "      <td>41.0</td>\n",
       "      <td>39.0</td>\n",
       "      <td>1</td>\n",
       "      <td>0.329062</td>\n",
       "      <td>0.022211</td>\n",
       "    </tr>\n",
       "    <tr>\n",
       "      <th>4</th>\n",
       "      <td>41.0</td>\n",
       "      <td>9.0</td>\n",
       "      <td>1</td>\n",
       "      <td>0.231441</td>\n",
       "      <td>0.029385</td>\n",
       "    </tr>\n",
       "  </tbody>\n",
       "</table>\n",
       "</div>"
      ],
      "text/plain": [
       "   class0  class1  output_true  dissimilarity   time(s)\n",
       "0    41.0    16.0            1       0.339709  0.063745\n",
       "1    41.0    46.0            1       0.331649  0.051870\n",
       "2    41.0    16.0            1       0.339709  0.023907\n",
       "3    41.0    39.0            1       0.329062  0.022211\n",
       "4    41.0     9.0            1       0.231441  0.029385"
      ]
     },
     "execution_count": 58,
     "metadata": {},
     "output_type": "execute_result"
    }
   ],
   "source": [
    "df.head(n=5)"
   ]
  },
  {
   "cell_type": "code",
   "execution_count": 60,
   "metadata": {},
   "outputs": [
    {
     "data": {
      "text/plain": [
       "0.023202398014068603"
      ]
     },
     "execution_count": 60,
     "metadata": {},
     "output_type": "execute_result"
    }
   ],
   "source": [
    "avg_inference_time = df[\"time(s)\"].mean()\n",
    "avg_inference_time"
   ]
  },
  {
   "cell_type": "code",
   "execution_count": 45,
   "metadata": {},
   "outputs": [
    {
     "data": {
      "text/plain": [
       "1    2447\n",
       "0      53\n",
       "Name: output, dtype: int64"
      ]
     },
     "execution_count": 45,
     "metadata": {},
     "output_type": "execute_result"
    }
   ],
   "source": [
    "import numpy as np\n",
    "import pandas as pd\n",
    "import matplotlib.pyplot as plt\n",
    "import seaborn as sns\n",
    "%matplotlib inline\n",
    "df['output'].value_counts()"
   ]
  },
  {
   "cell_type": "code",
   "execution_count": 46,
   "metadata": {
    "scrolled": false
   },
   "outputs": [
    {
     "data": {
      "text/plain": [
       "<matplotlib.axes._subplots.AxesSubplot at 0x10458e2b0>"
      ]
     },
     "execution_count": 46,
     "metadata": {},
     "output_type": "execute_result"
    },
    {
     "data": {
      "image/png": "[encoded data removed]",
      "text/plain": [
       "<Figure size 864x504 with 1 Axes>"
      ]
     },
     "metadata": {
      "needs_background": "light"
     },
     "output_type": "display_data"
    }
   ],
   "source": [
    "plt.figure(figsize=(12, 7))\n",
    "sns.boxplot(x='output',y='dissimilarity',data=df,palette='winter')"
   ]
  },
  {
   "cell_type": "code",
   "execution_count": 36,
   "metadata": {},
   "outputs": [],
   "source": [
    "#rand = np.random.randint(2, size=len(df))\n",
    "#df['random_guess'] = rand.tolist()\n",
    "#df"
   ]
  },
  {
   "cell_type": "code",
   "execution_count": 50,
   "metadata": {},
   "outputs": [
    {
     "data": {
      "text/html": [
       "<div>\n",
       "<style scoped>\n",
       "    .dataframe tbody tr th:only-of-type {\n",
       "        vertical-align: middle;\n",
       "    }\n",
       "\n",
       "    .dataframe tbody tr th {\n",
       "        vertical-align: top;\n",
       "    }\n",
       "\n",
       "    .dataframe thead th {\n",
       "        text-align: right;\n",
       "    }\n",
       "</style>\n",
       "<table border=\"1\" class=\"dataframe\">\n",
       "  <thead>\n",
       "    <tr style=\"text-align: right;\">\n",
       "      <th></th>\n",
       "      <th>dissimilarity_score</th>\n",
       "      <th>accuracy</th>\n",
       "      <th>accuracy_random</th>\n",
       "    </tr>\n",
       "  </thead>\n",
       "  <tbody>\n",
       "    <tr>\n",
       "      <th>0</th>\n",
       "      <td>0.0000</td>\n",
       "      <td>0.9788</td>\n",
       "      <td>0.5148</td>\n",
       "    </tr>\n",
       "    <tr>\n",
       "      <th>1</th>\n",
       "      <td>0.0001</td>\n",
       "      <td>0.9932</td>\n",
       "      <td>0.4980</td>\n",
       "    </tr>\n",
       "    <tr>\n",
       "      <th>2</th>\n",
       "      <td>0.0002</td>\n",
       "      <td>0.9932</td>\n",
       "      <td>0.5036</td>\n",
       "    </tr>\n",
       "    <tr>\n",
       "      <th>3</th>\n",
       "      <td>0.0003</td>\n",
       "      <td>0.9932</td>\n",
       "      <td>0.5004</td>\n",
       "    </tr>\n",
       "    <tr>\n",
       "      <th>4</th>\n",
       "      <td>0.0004</td>\n",
       "      <td>0.9932</td>\n",
       "      <td>0.4884</td>\n",
       "    </tr>\n",
       "    <tr>\n",
       "      <th>5</th>\n",
       "      <td>0.0005</td>\n",
       "      <td>0.9932</td>\n",
       "      <td>0.5052</td>\n",
       "    </tr>\n",
       "    <tr>\n",
       "      <th>6</th>\n",
       "      <td>0.0006</td>\n",
       "      <td>0.9932</td>\n",
       "      <td>0.4936</td>\n",
       "    </tr>\n",
       "    <tr>\n",
       "      <th>7</th>\n",
       "      <td>0.0007</td>\n",
       "      <td>0.9932</td>\n",
       "      <td>0.5292</td>\n",
       "    </tr>\n",
       "    <tr>\n",
       "      <th>8</th>\n",
       "      <td>0.0008</td>\n",
       "      <td>0.9932</td>\n",
       "      <td>0.4920</td>\n",
       "    </tr>\n",
       "    <tr>\n",
       "      <th>9</th>\n",
       "      <td>0.0009</td>\n",
       "      <td>0.9932</td>\n",
       "      <td>0.5132</td>\n",
       "    </tr>\n",
       "    <tr>\n",
       "      <th>10</th>\n",
       "      <td>0.0010</td>\n",
       "      <td>0.9932</td>\n",
       "      <td>0.4928</td>\n",
       "    </tr>\n",
       "    <tr>\n",
       "      <th>11</th>\n",
       "      <td>0.0011</td>\n",
       "      <td>0.9932</td>\n",
       "      <td>0.5012</td>\n",
       "    </tr>\n",
       "    <tr>\n",
       "      <th>12</th>\n",
       "      <td>0.0012</td>\n",
       "      <td>0.9932</td>\n",
       "      <td>0.4704</td>\n",
       "    </tr>\n",
       "    <tr>\n",
       "      <th>13</th>\n",
       "      <td>0.0013</td>\n",
       "      <td>0.9932</td>\n",
       "      <td>0.5128</td>\n",
       "    </tr>\n",
       "    <tr>\n",
       "      <th>14</th>\n",
       "      <td>0.0014</td>\n",
       "      <td>0.9932</td>\n",
       "      <td>0.5040</td>\n",
       "    </tr>\n",
       "    <tr>\n",
       "      <th>15</th>\n",
       "      <td>0.0015</td>\n",
       "      <td>0.9932</td>\n",
       "      <td>0.4884</td>\n",
       "    </tr>\n",
       "    <tr>\n",
       "      <th>16</th>\n",
       "      <td>0.0016</td>\n",
       "      <td>0.9932</td>\n",
       "      <td>0.5024</td>\n",
       "    </tr>\n",
       "    <tr>\n",
       "      <th>17</th>\n",
       "      <td>0.0017</td>\n",
       "      <td>0.9932</td>\n",
       "      <td>0.5040</td>\n",
       "    </tr>\n",
       "    <tr>\n",
       "      <th>18</th>\n",
       "      <td>0.0018</td>\n",
       "      <td>0.9932</td>\n",
       "      <td>0.4880</td>\n",
       "    </tr>\n",
       "    <tr>\n",
       "      <th>19</th>\n",
       "      <td>0.0019</td>\n",
       "      <td>0.9932</td>\n",
       "      <td>0.4672</td>\n",
       "    </tr>\n",
       "    <tr>\n",
       "      <th>20</th>\n",
       "      <td>0.0020</td>\n",
       "      <td>0.9932</td>\n",
       "      <td>0.4896</td>\n",
       "    </tr>\n",
       "    <tr>\n",
       "      <th>21</th>\n",
       "      <td>0.0021</td>\n",
       "      <td>0.9932</td>\n",
       "      <td>0.4888</td>\n",
       "    </tr>\n",
       "    <tr>\n",
       "      <th>22</th>\n",
       "      <td>0.0022</td>\n",
       "      <td>0.9932</td>\n",
       "      <td>0.4972</td>\n",
       "    </tr>\n",
       "    <tr>\n",
       "      <th>23</th>\n",
       "      <td>0.0023</td>\n",
       "      <td>0.9932</td>\n",
       "      <td>0.4908</td>\n",
       "    </tr>\n",
       "    <tr>\n",
       "      <th>24</th>\n",
       "      <td>0.0024</td>\n",
       "      <td>0.9932</td>\n",
       "      <td>0.5048</td>\n",
       "    </tr>\n",
       "    <tr>\n",
       "      <th>25</th>\n",
       "      <td>0.0025</td>\n",
       "      <td>0.9932</td>\n",
       "      <td>0.4936</td>\n",
       "    </tr>\n",
       "    <tr>\n",
       "      <th>26</th>\n",
       "      <td>0.0026</td>\n",
       "      <td>0.9932</td>\n",
       "      <td>0.5108</td>\n",
       "    </tr>\n",
       "    <tr>\n",
       "      <th>27</th>\n",
       "      <td>0.0027</td>\n",
       "      <td>0.9932</td>\n",
       "      <td>0.4948</td>\n",
       "    </tr>\n",
       "    <tr>\n",
       "      <th>28</th>\n",
       "      <td>0.0028</td>\n",
       "      <td>0.9932</td>\n",
       "      <td>0.4872</td>\n",
       "    </tr>\n",
       "    <tr>\n",
       "      <th>29</th>\n",
       "      <td>0.0029</td>\n",
       "      <td>0.9916</td>\n",
       "      <td>0.4964</td>\n",
       "    </tr>\n",
       "    <tr>\n",
       "      <th>...</th>\n",
       "      <td>...</td>\n",
       "      <td>...</td>\n",
       "      <td>...</td>\n",
       "    </tr>\n",
       "    <tr>\n",
       "      <th>970</th>\n",
       "      <td>0.0970</td>\n",
       "      <td>0.8876</td>\n",
       "      <td>0.5048</td>\n",
       "    </tr>\n",
       "    <tr>\n",
       "      <th>971</th>\n",
       "      <td>0.0971</td>\n",
       "      <td>0.8876</td>\n",
       "      <td>0.4876</td>\n",
       "    </tr>\n",
       "    <tr>\n",
       "      <th>972</th>\n",
       "      <td>0.0972</td>\n",
       "      <td>0.8876</td>\n",
       "      <td>0.4976</td>\n",
       "    </tr>\n",
       "    <tr>\n",
       "      <th>973</th>\n",
       "      <td>0.0973</td>\n",
       "      <td>0.8876</td>\n",
       "      <td>0.4972</td>\n",
       "    </tr>\n",
       "    <tr>\n",
       "      <th>974</th>\n",
       "      <td>0.0974</td>\n",
       "      <td>0.8876</td>\n",
       "      <td>0.4988</td>\n",
       "    </tr>\n",
       "    <tr>\n",
       "      <th>975</th>\n",
       "      <td>0.0975</td>\n",
       "      <td>0.8876</td>\n",
       "      <td>0.4992</td>\n",
       "    </tr>\n",
       "    <tr>\n",
       "      <th>976</th>\n",
       "      <td>0.0976</td>\n",
       "      <td>0.8876</td>\n",
       "      <td>0.5028</td>\n",
       "    </tr>\n",
       "    <tr>\n",
       "      <th>977</th>\n",
       "      <td>0.0977</td>\n",
       "      <td>0.8876</td>\n",
       "      <td>0.4972</td>\n",
       "    </tr>\n",
       "    <tr>\n",
       "      <th>978</th>\n",
       "      <td>0.0978</td>\n",
       "      <td>0.8876</td>\n",
       "      <td>0.4908</td>\n",
       "    </tr>\n",
       "    <tr>\n",
       "      <th>979</th>\n",
       "      <td>0.0979</td>\n",
       "      <td>0.8876</td>\n",
       "      <td>0.4996</td>\n",
       "    </tr>\n",
       "    <tr>\n",
       "      <th>980</th>\n",
       "      <td>0.0980</td>\n",
       "      <td>0.8876</td>\n",
       "      <td>0.5056</td>\n",
       "    </tr>\n",
       "    <tr>\n",
       "      <th>981</th>\n",
       "      <td>0.0981</td>\n",
       "      <td>0.8876</td>\n",
       "      <td>0.5056</td>\n",
       "    </tr>\n",
       "    <tr>\n",
       "      <th>982</th>\n",
       "      <td>0.0982</td>\n",
       "      <td>0.8876</td>\n",
       "      <td>0.4964</td>\n",
       "    </tr>\n",
       "    <tr>\n",
       "      <th>983</th>\n",
       "      <td>0.0983</td>\n",
       "      <td>0.8876</td>\n",
       "      <td>0.4948</td>\n",
       "    </tr>\n",
       "    <tr>\n",
       "      <th>984</th>\n",
       "      <td>0.0984</td>\n",
       "      <td>0.8876</td>\n",
       "      <td>0.5104</td>\n",
       "    </tr>\n",
       "    <tr>\n",
       "      <th>985</th>\n",
       "      <td>0.0985</td>\n",
       "      <td>0.8876</td>\n",
       "      <td>0.5044</td>\n",
       "    </tr>\n",
       "    <tr>\n",
       "      <th>986</th>\n",
       "      <td>0.0986</td>\n",
       "      <td>0.8856</td>\n",
       "      <td>0.5016</td>\n",
       "    </tr>\n",
       "    <tr>\n",
       "      <th>987</th>\n",
       "      <td>0.0987</td>\n",
       "      <td>0.8852</td>\n",
       "      <td>0.4900</td>\n",
       "    </tr>\n",
       "    <tr>\n",
       "      <th>988</th>\n",
       "      <td>0.0988</td>\n",
       "      <td>0.8848</td>\n",
       "      <td>0.5052</td>\n",
       "    </tr>\n",
       "    <tr>\n",
       "      <th>989</th>\n",
       "      <td>0.0989</td>\n",
       "      <td>0.8816</td>\n",
       "      <td>0.4960</td>\n",
       "    </tr>\n",
       "    <tr>\n",
       "      <th>990</th>\n",
       "      <td>0.0990</td>\n",
       "      <td>0.8816</td>\n",
       "      <td>0.5076</td>\n",
       "    </tr>\n",
       "    <tr>\n",
       "      <th>991</th>\n",
       "      <td>0.0991</td>\n",
       "      <td>0.8816</td>\n",
       "      <td>0.4948</td>\n",
       "    </tr>\n",
       "    <tr>\n",
       "      <th>992</th>\n",
       "      <td>0.0992</td>\n",
       "      <td>0.8816</td>\n",
       "      <td>0.4960</td>\n",
       "    </tr>\n",
       "    <tr>\n",
       "      <th>993</th>\n",
       "      <td>0.0993</td>\n",
       "      <td>0.8816</td>\n",
       "      <td>0.4852</td>\n",
       "    </tr>\n",
       "    <tr>\n",
       "      <th>994</th>\n",
       "      <td>0.0994</td>\n",
       "      <td>0.8816</td>\n",
       "      <td>0.4896</td>\n",
       "    </tr>\n",
       "    <tr>\n",
       "      <th>995</th>\n",
       "      <td>0.0995</td>\n",
       "      <td>0.8816</td>\n",
       "      <td>0.5040</td>\n",
       "    </tr>\n",
       "    <tr>\n",
       "      <th>996</th>\n",
       "      <td>0.0996</td>\n",
       "      <td>0.8816</td>\n",
       "      <td>0.5096</td>\n",
       "    </tr>\n",
       "    <tr>\n",
       "      <th>997</th>\n",
       "      <td>0.0997</td>\n",
       "      <td>0.8816</td>\n",
       "      <td>0.4968</td>\n",
       "    </tr>\n",
       "    <tr>\n",
       "      <th>998</th>\n",
       "      <td>0.0998</td>\n",
       "      <td>0.8816</td>\n",
       "      <td>0.4968</td>\n",
       "    </tr>\n",
       "    <tr>\n",
       "      <th>999</th>\n",
       "      <td>0.0999</td>\n",
       "      <td>0.8816</td>\n",
       "      <td>0.4896</td>\n",
       "    </tr>\n",
       "  </tbody>\n",
       "</table>\n",
       "<p>1000 rows × 3 columns</p>\n",
       "</div>"
      ],
      "text/plain": [
       "     dissimilarity_score  accuracy  accuracy_random\n",
       "0                 0.0000    0.9788           0.5148\n",
       "1                 0.0001    0.9932           0.4980\n",
       "2                 0.0002    0.9932           0.5036\n",
       "3                 0.0003    0.9932           0.5004\n",
       "4                 0.0004    0.9932           0.4884\n",
       "5                 0.0005    0.9932           0.5052\n",
       "6                 0.0006    0.9932           0.4936\n",
       "7                 0.0007    0.9932           0.5292\n",
       "8                 0.0008    0.9932           0.4920\n",
       "9                 0.0009    0.9932           0.5132\n",
       "10                0.0010    0.9932           0.4928\n",
       "11                0.0011    0.9932           0.5012\n",
       "12                0.0012    0.9932           0.4704\n",
       "13                0.0013    0.9932           0.5128\n",
       "14                0.0014    0.9932           0.5040\n",
       "15                0.0015    0.9932           0.4884\n",
       "16                0.0016    0.9932           0.5024\n",
       "17                0.0017    0.9932           0.5040\n",
       "18                0.0018    0.9932           0.4880\n",
       "19                0.0019    0.9932           0.4672\n",
       "20                0.0020    0.9932           0.4896\n",
       "21                0.0021    0.9932           0.4888\n",
       "22                0.0022    0.9932           0.4972\n",
       "23                0.0023    0.9932           0.4908\n",
       "24                0.0024    0.9932           0.5048\n",
       "25                0.0025    0.9932           0.4936\n",
       "26                0.0026    0.9932           0.5108\n",
       "27                0.0027    0.9932           0.4948\n",
       "28                0.0028    0.9932           0.4872\n",
       "29                0.0029    0.9916           0.4964\n",
       "..                   ...       ...              ...\n",
       "970               0.0970    0.8876           0.5048\n",
       "971               0.0971    0.8876           0.4876\n",
       "972               0.0972    0.8876           0.4976\n",
       "973               0.0973    0.8876           0.4972\n",
       "974               0.0974    0.8876           0.4988\n",
       "975               0.0975    0.8876           0.4992\n",
       "976               0.0976    0.8876           0.5028\n",
       "977               0.0977    0.8876           0.4972\n",
       "978               0.0978    0.8876           0.4908\n",
       "979               0.0979    0.8876           0.4996\n",
       "980               0.0980    0.8876           0.5056\n",
       "981               0.0981    0.8876           0.5056\n",
       "982               0.0982    0.8876           0.4964\n",
       "983               0.0983    0.8876           0.4948\n",
       "984               0.0984    0.8876           0.5104\n",
       "985               0.0985    0.8876           0.5044\n",
       "986               0.0986    0.8856           0.5016\n",
       "987               0.0987    0.8852           0.4900\n",
       "988               0.0988    0.8848           0.5052\n",
       "989               0.0989    0.8816           0.4960\n",
       "990               0.0990    0.8816           0.5076\n",
       "991               0.0991    0.8816           0.4948\n",
       "992               0.0992    0.8816           0.4960\n",
       "993               0.0993    0.8816           0.4852\n",
       "994               0.0994    0.8816           0.4896\n",
       "995               0.0995    0.8816           0.5040\n",
       "996               0.0996    0.8816           0.5096\n",
       "997               0.0997    0.8816           0.4968\n",
       "998               0.0998    0.8816           0.4968\n",
       "999               0.0999    0.8816           0.4896\n",
       "\n",
       "[1000 rows x 3 columns]"
      ]
     },
     "execution_count": 50,
     "metadata": {},
     "output_type": "execute_result"
    }
   ],
   "source": [
    "#dissimilarity_score = np.arange(0.0,max(df['dissimilarity']), 0.0001)\n",
    "dissimilarity_score = np.arange(0.0, 0.1, 0.0001)\n",
    "cols = ['dissimilarity_score', 'accuracy', 'accuracy_random']\n",
    "lst = []\n",
    "\n",
    "for i in dissimilarity_score:\n",
    "    df['prediction'] = 0\n",
    "    df['prediction'][df['dissimilarity'] >= i] = 1\n",
    "   \n",
    "    df['correct'] = 0\n",
    "    df['correct'][df['prediction']  == df['output_true']] = 1\n",
    "    \n",
    "    rand = np.random.randint(2, size=len(df))\n",
    "    df['random_guess'] = rand.tolist()\n",
    "    df['correct_guess'] = 0\n",
    "    df['correct_guess'][df['random_guess'] == df['output_true']] = 1\n",
    "    \n",
    "    acc = sum(df['correct']) / len(df)\n",
    "    acc_guess = sum(df['correct_guess']) / len(df)\n",
    "    lst.append([i, acc, acc_guess])\n",
    "\n",
    "df2 = pd.DataFrame(lst, columns=cols)\n",
    "df2"
   ]
  },
  {
   "cell_type": "code",
   "execution_count": 56,
   "metadata": {},
   "outputs": [
    {
     "data": {
      "text/plain": [
       "<matplotlib.axes._subplots.AxesSubplot at 0x1a2a71a710>"
      ]
     },
     "execution_count": 56,
     "metadata": {},
     "output_type": "execute_result"
    },
    {
     "data": {
      "image/png": "[encoded data removed]",
      "text/plain": [
       "<Figure size 432x288 with 1 Axes>"
      ]
     },
     "metadata": {
      "needs_background": "light"
     },
     "output_type": "display_data"
    }
   ],
   "source": [
    "df2.plot.line(x=\"dissimilarity_score\",y=\"accuracy\")"
   ]
  },
  {
   "cell_type": "code",
   "execution_count": 90,
   "metadata": {},
   "outputs": [
    {
     "data": {
      "text/html": [
       "<div>\n",
       "<style scoped>\n",
       "    .dataframe tbody tr th:only-of-type {\n",
       "        vertical-align: middle;\n",
       "    }\n",
       "\n",
       "    .dataframe tbody tr th {\n",
       "        vertical-align: top;\n",
       "    }\n",
       "\n",
       "    .dataframe thead th {\n",
       "        text-align: right;\n",
       "    }\n",
       "</style>\n",
       "<table border=\"1\" class=\"dataframe\">\n",
       "  <thead>\n",
       "    <tr style=\"text-align: right;\">\n",
       "      <th></th>\n",
       "      <th>class0</th>\n",
       "      <th>class1</th>\n",
       "      <th>output_true</th>\n",
       "      <th>dissimilarity</th>\n",
       "      <th>time(s)</th>\n",
       "    </tr>\n",
       "  </thead>\n",
       "  <tbody>\n",
       "    <tr>\n",
       "      <th>0</th>\n",
       "      <td>1.0</td>\n",
       "      <td>2.0</td>\n",
       "      <td>1</td>\n",
       "      <td>0.176686</td>\n",
       "      <td>0.044006</td>\n",
       "    </tr>\n",
       "    <tr>\n",
       "      <th>1</th>\n",
       "      <td>1.0</td>\n",
       "      <td>0.0</td>\n",
       "      <td>1</td>\n",
       "      <td>0.332839</td>\n",
       "      <td>0.037445</td>\n",
       "    </tr>\n",
       "    <tr>\n",
       "      <th>2</th>\n",
       "      <td>1.0</td>\n",
       "      <td>3.0</td>\n",
       "      <td>1</td>\n",
       "      <td>0.288920</td>\n",
       "      <td>0.021644</td>\n",
       "    </tr>\n",
       "    <tr>\n",
       "      <th>3</th>\n",
       "      <td>1.0</td>\n",
       "      <td>4.0</td>\n",
       "      <td>1</td>\n",
       "      <td>0.229499</td>\n",
       "      <td>0.020391</td>\n",
       "    </tr>\n",
       "    <tr>\n",
       "      <th>4</th>\n",
       "      <td>1.0</td>\n",
       "      <td>4.0</td>\n",
       "      <td>1</td>\n",
       "      <td>0.229499</td>\n",
       "      <td>0.021916</td>\n",
       "    </tr>\n",
       "  </tbody>\n",
       "</table>\n",
       "</div>"
      ],
      "text/plain": [
       "   class0  class1  output_true  dissimilarity   time(s)\n",
       "0     1.0     2.0            1       0.176686  0.044006\n",
       "1     1.0     0.0            1       0.332839  0.037445\n",
       "2     1.0     3.0            1       0.288920  0.021644\n",
       "3     1.0     4.0            1       0.229499  0.020391\n",
       "4     1.0     4.0            1       0.229499  0.021916"
      ]
     },
     "execution_count": 90,
     "metadata": {},
     "output_type": "execute_result"
    }
   ],
   "source": [
    "import time\n",
    "folder_dataset_test = dset.ImageFolder(root=Config.testing_dir)\n",
    "siamese_dataset = SiameseNetworkDataset(imageFolderDataset=folder_dataset_test,\n",
    "                                        transform=transforms.Compose([transforms.Resize((100,100)),\n",
    "                                                                      transforms.ToTensor()\n",
    "                                                                      ])\n",
    "                                       ,should_invert=False)\n",
    "\n",
    "test_dataloader = DataLoader(siamese_dataset,num_workers=6,batch_size=1,shuffle=False)\n",
    "\n",
    "cols = ['class0','class1', 'output_true', 'dissimilarity','time(s)']\n",
    "lst = []\n",
    "\n",
    "for i_batch, sample_batched in enumerate(test_dataloader):\n",
    "    x0 = sample_batched[0]\n",
    "    class0 = sample_batched[3]\n",
    "    for i_batch, sample_batched in enumerate(test_dataloader):\n",
    "        start_time = time.time()\n",
    "        x1 = sample_batched[1]\n",
    "        class1 = sample_batched[4]\n",
    "        concatenated = torch.cat((x0,x1),0)\n",
    "        output1,output2 = net(Variable(x0),Variable(x1))\n",
    "        euclidean_distance = F.pairwise_distance(output1, output2)\n",
    "        if class0.item() == class1.item():\n",
    "            image_tup = 0\n",
    "        else:\n",
    "            image_tup = 1\n",
    "        elapsed_time = time.time() - start_time\n",
    "        lst.append([class0.item(), class1.item(), image_tup, euclidean_distance.item(), elapsed_time])\n",
    "        #print(class0.item(), class1.item(), image_tup, euclidean_distance.item())\n",
    "\n",
    "        \n",
    "df = pd.DataFrame(lst, columns=cols)\n",
    "df.head(5)"
   ]
  },
  {
   "cell_type": "code",
   "execution_count": 91,
   "metadata": {},
   "outputs": [
    {
     "data": {
      "text/plain": [
       "<matplotlib.axes._subplots.AxesSubplot at 0x1a2ae9c908>"
      ]
     },
     "execution_count": 91,
     "metadata": {},
     "output_type": "execute_result"
    },
    {
     "data": {
      "image/png": "[encoded data removed]",
      "text/plain": [
       "<Figure size 432x288 with 1 Axes>"
      ]
     },
     "metadata": {
      "needs_background": "light"
     },
     "output_type": "display_data"
    }
   ],
   "source": [
    "#dissimilarity_score = np.arange(0.0,max(df['dissimilarity']), 0.0001)\n",
    "dissimilarity_score = np.arange(0.0, 0.1, 0.0001)\n",
    "cols = ['dissimilarity_score', 'accuracy', 'accuracy_random']\n",
    "lst = []\n",
    "\n",
    "for i in dissimilarity_score:\n",
    "    df['prediction'] = 0\n",
    "    df['prediction'][df['dissimilarity'] >= i] = 1\n",
    "   \n",
    "    df['correct'] = 0\n",
    "    df['correct'][df['prediction']  == df['output_true']] = 1\n",
    "    \n",
    "    rand = np.random.randint(2, size=len(df))\n",
    "    df['random_guess'] = rand.tolist()\n",
    "    df['correct_guess'] = 0\n",
    "    df['correct_guess'][df['random_guess'] == df['output_true']] = 1\n",
    "    \n",
    "    acc = sum(df['correct']) / len(df)\n",
    "    acc_guess = sum(df['correct_guess']) / len(df)\n",
    "    lst.append([i, acc, acc_guess])\n",
    "\n",
    "df2 = pd.DataFrame(lst, columns=cols)\n",
    "\n",
    "\n",
    "df2.plot.line(x=\"dissimilarity_score\",y=\"accuracy\")"
   ]
  },
  {
   "cell_type": "code",
   "execution_count": 92,
   "metadata": {},
   "outputs": [
    {
     "data": {
      "text/plain": [
       "1.0"
      ]
     },
     "execution_count": 92,
     "metadata": {},
     "output_type": "execute_result"
    }
   ],
   "source": [
    "max_acc = df2[\"accuracy\"].max()\n",
    "max_acc"
   ]
  },
  {
   "cell_type": "code",
   "execution_count": null,
   "metadata": {},
   "outputs": [],
   "source": []
  }
 ],
 "metadata": {
  "hide_input": false,
  "kernelspec": {
   "display_name": "Python 3",
   "language": "python",
   "name": "python3"
  },
  "language_info": {
   "codemirror_mode": {
    "name": "ipython",
    "version": 3
   },
   "file_extension": ".py",
   "mimetype": "text/x-python",
   "name": "python",
   "nbconvert_exporter": "python",
   "pygments_lexer": "ipython3",
   "version": "3.7.1"
  }
 },
 "nbformat": 4,
 "nbformat_minor": 2
}
